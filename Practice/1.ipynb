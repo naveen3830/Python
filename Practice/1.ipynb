{
 "cells": [
  {
   "cell_type": "code",
   "execution_count": 1,
   "metadata": {},
   "outputs": [
    {
     "name": "stdout",
     "output_type": "stream",
     "text": [
      "Question 1:\n",
      "1\n",
      "2\n",
      "3\n",
      "4\n",
      "5\n",
      "6\n",
      "7\n",
      "8\n",
      "9\n",
      "10\n"
     ]
    }
   ],
   "source": [
    "# Question 1: Print numbers from 1 to 10\n",
    "print(\"Question 1:\")\n",
    "\n",
    "for i in range(1,11):\n",
    "  print(i)"
   ]
  },
  {
   "cell_type": "code",
   "execution_count": 2,
   "metadata": {},
   "outputs": [
    {
     "name": "stdout",
     "output_type": "stream",
     "text": [
      "\n",
      "Question 2:\n",
      "2\n",
      "4\n",
      "6\n",
      "8\n",
      "10\n",
      "12\n",
      "14\n",
      "16\n",
      "18\n",
      "20\n"
     ]
    }
   ],
   "source": [
    "# Question 2: Print even numbers from 1 to 20\n",
    "print(\"\\nQuestion 2:\")\n",
    "\n",
    "for i in range(1,21):\n",
    "  if i%2==0:\n",
    "    print(i)"
   ]
  },
  {
   "cell_type": "code",
   "execution_count": 3,
   "metadata": {},
   "outputs": [
    {
     "name": "stdout",
     "output_type": "stream",
     "text": [
      "\n",
      "Question 3:\n",
      "5050\n"
     ]
    }
   ],
   "source": [
    "# Question 3: Calculate the sum of numbers from 1 to 100\n",
    "print(\"\\nQuestion 3:\")\n",
    "\n",
    "sum=0\n",
    "for i in range(1,101):\n",
    "  sum=sum+i\n",
    "print(sum)\n"
   ]
  },
  {
   "cell_type": "code",
   "execution_count": 4,
   "metadata": {},
   "outputs": [
    {
     "name": "stdout",
     "output_type": "stream",
     "text": [
      "\n",
      "Question 4:\n",
      "H\n",
      "e\n",
      "l\n",
      "l\n",
      "o\n",
      " \n",
      "W\n",
      "o\n",
      "r\n",
      "l\n",
      "d\n"
     ]
    }
   ],
   "source": [
    "# Question 4: Print each character in a string\n",
    "print(\"\\nQuestion 4:\")\n",
    "my_string = \"Hello World\"\n",
    "\n",
    "for i in my_string:\n",
    "  print(i)\n"
   ]
  },
  {
   "cell_type": "code",
   "execution_count": 5,
   "metadata": {},
   "outputs": [
    {
     "name": "stdout",
     "output_type": "stream",
     "text": [
      "\n",
      "Question 5:\n",
      "10\n",
      "20\n",
      "30\n",
      "40\n",
      "50\n"
     ]
    }
   ],
   "source": [
    "# Question 5: Iterate through a list of numbers and print each one\n",
    "print(\"\\nQuestion 5:\")\n",
    "my_list = [10, 20, 30, 40, 50]\n",
    "for i in my_list:\n",
    "  print(i)"
   ]
  },
  {
   "cell_type": "code",
   "execution_count": 6,
   "metadata": {},
   "outputs": [
    {
     "name": "stdout",
     "output_type": "stream",
     "text": [
      "\n",
      "Question 6:\n",
      "25\n"
     ]
    }
   ],
   "source": [
    "# Question 6: Find the largest number in a list\n",
    "print(\"\\nQuestion 6:\")\n",
    "numbers = [5, 12, 8, 25, 3]\n",
    "# Your code here\n",
    "largest=numbers[0]\n",
    "for num in numbers:\n",
    "  if num>largest:\n",
    "    largest=num\n",
    "\n",
    "print(largest)"
   ]
  },
  {
   "cell_type": "code",
   "execution_count": 7,
   "metadata": {},
   "outputs": [
    {
     "name": "stdout",
     "output_type": "stream",
     "text": [
      "\n",
      "Question 7:\n",
      "8\n"
     ]
    }
   ],
   "source": [
    "# Question 7: Count the number of vowels in a string\n",
    "print(\"\\nQuestion 7:\")\n",
    "sentence = \"This is a sample sentence\"\n",
    "# Your code here\n",
    "\n",
    "l1=['a','e','i','o','u']\n",
    "sum=0\n",
    "for i in sentence:\n",
    "  if i in l1:\n",
    "    sum=sum+1\n",
    "print(sum)"
   ]
  },
  {
   "cell_type": "code",
   "execution_count": 8,
   "metadata": {},
   "outputs": [
    {
     "name": "stdout",
     "output_type": "stream",
     "text": [
      "\n",
      "Question 8:\n",
      "7*1= 7\n",
      "7*2= 14\n",
      "7*3= 21\n",
      "7*4= 28\n",
      "7*5= 35\n",
      "7*6= 42\n",
      "7*7= 49\n",
      "7*8= 56\n",
      "7*9= 63\n",
      "7*10= 70\n"
     ]
    }
   ],
   "source": [
    "# Question 8: Print a multiplication table for a given number (e.g., 7) up to 10\n",
    "print(\"\\nQuestion 8:\")\n",
    "number_to_multiply = 7\n",
    "# Your code here\n",
    "\n",
    "for i in range(1,11):\n",
    "  prod=number_to_multiply*i\n",
    "  print(f\"{number_to_multiply}*{i}=\",prod)"
   ]
  },
  {
   "cell_type": "code",
   "execution_count": 9,
   "metadata": {},
   "outputs": [
    {
     "name": "stdout",
     "output_type": "stream",
     "text": [
      "\n",
      "Question 9:\n",
      "(0, 'apple')\n",
      "(1, 'banana')\n",
      "(2, 'cherry')\n"
     ]
    }
   ],
   "source": [
    "# Question 9: Print elements of a list along with their index\n",
    "print(\"\\nQuestion 9:\")\n",
    "fruits = [\"apple\", \"banana\", \"cherry\"]\n",
    "\n",
    "for i in enumerate(fruits):\n",
    "  print(i)"
   ]
  },
  {
   "cell_type": "code",
   "execution_count": 10,
   "metadata": {},
   "outputs": [
    {
     "name": "stdout",
     "output_type": "stream",
     "text": [
      "\n",
      "Question 10:\n",
      "[1, 4, 9, 16, 25]\n"
     ]
    }
   ],
   "source": [
    "# Question 10: Create a new list containing the squares of numbers from 1 to 5\n",
    "print(\"\\nQuestion 10:\")\n",
    "\n",
    "new_list=[i**2 for i in range(1,6)]\n",
    "print(new_list)"
   ]
  },
  {
   "cell_type": "code",
   "execution_count": 19,
   "metadata": {},
   "outputs": [
    {
     "name": "stdout",
     "output_type": "stream",
     "text": [
      "\n",
      "Question 11:\n",
      "10\n",
      "9\n",
      "8\n",
      "7\n",
      "6\n",
      "5\n",
      "4\n",
      "3\n",
      "2\n",
      "1\n"
     ]
    }
   ],
   "source": [
    "# Question 11: Print numbers from 10 to 1 in descending order\n",
    "print(\"\\nQuestion 11:\")\n",
    "\n",
    "for i in range(10,0,-1):\n",
    "    print(i)    "
   ]
  },
  {
   "cell_type": "code",
   "execution_count": 22,
   "metadata": {},
   "outputs": [
    {
     "name": "stdout",
     "output_type": "stream",
     "text": [
      "\n",
      "Question 12:\n",
      "1\n",
      "3\n",
      "5\n",
      "7\n",
      "9\n",
      "11\n",
      "13\n",
      "15\n",
      "17\n",
      "19\n"
     ]
    }
   ],
   "source": [
    "# Question 12: Print odd numbers from 1 to 20\n",
    "print(\"\\nQuestion 12:\")\n",
    "\n",
    "for i in range(1,21):\n",
    "    if i%2!=0:\n",
    "        print(i)"
   ]
  },
  {
   "cell_type": "code",
   "execution_count": null,
   "metadata": {},
   "outputs": [],
   "source": []
  }
 ],
 "metadata": {
  "kernelspec": {
   "display_name": "Python 3",
   "language": "python",
   "name": "python3"
  },
  "language_info": {
   "codemirror_mode": {
    "name": "ipython",
    "version": 3
   },
   "file_extension": ".py",
   "mimetype": "text/x-python",
   "name": "python",
   "nbconvert_exporter": "python",
   "pygments_lexer": "ipython3",
   "version": "3.13.3"
  }
 },
 "nbformat": 4,
 "nbformat_minor": 2
}
