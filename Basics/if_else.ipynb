{
 "cells": [
  {
   "cell_type": "markdown",
   "metadata": {},
   "source": [
    "# Conditional Statements: if-else\n",
    "Conditional statements execute specific code blocks based on conditions."
   ]
  },
  {
   "cell_type": "code",
   "execution_count": 2,
   "metadata": {},
   "outputs": [
    {
     "name": "stdout",
     "output_type": "stream",
     "text": [
      "Login success\n"
     ]
    }
   ],
   "source": [
    "email=input(\"Enter the email: \")\n",
    "password=input(\"Enter the password: \")\n",
    "\n",
    "if email==\"nav@gmail.com\" and password=='1234':\n",
    "    print(\"Login success\")\n",
    "else:\n",
    "    print(\"Login failed\")"
   ]
  },
  {
   "cell_type": "code",
   "execution_count": 4,
   "metadata": {},
   "outputs": [
    {
     "name": "stdout",
     "output_type": "stream",
     "text": [
      "Enter password again\n",
      "Please leave the website\n"
     ]
    }
   ],
   "source": [
    "email=input(\"Enter email: \")\n",
    "password=input(\"Enter password: \")\n",
    "\n",
    "if email==\"nav@gmail.com\" and password==\"1234\":\n",
    "    print(\"Login Success\")\n",
    "elif email==\"nav@gmail.com\" and password!=\"1234\":\n",
    "    print(\"Enter password again\")\n",
    "    password=input(\"Enter password again: \")\n",
    "    if email==\"nav@gmail.com\" and password==\"1234\":\n",
    "        print(\"Login Success\")\n",
    "    else:\n",
    "        print(\"Please leave the website\")\n",
    "else:\n",
    "    print(\"Login Unsuccessful\")"
   ]
  },
  {
   "cell_type": "code",
   "execution_count": 7,
   "metadata": {},
   "outputs": [
    {
     "name": "stdout",
     "output_type": "stream",
     "text": [
      "1 is lesser than (4, 5)\n"
     ]
    }
   ],
   "source": [
    "# Find the minimum of three numbers\n",
    "a=int(input('Enter first number: '))\n",
    "b=int(input('Enter second number: '))\n",
    "c=int(input('Enter third number: '))\n",
    "\n",
    "if a<b and a<c:\n",
    "    print(f\"{a} is lesser than {b,c}\")\n",
    "elif b<c:\n",
    "    print(f\"{b} is lesser than {a,c}\")\n",
    "else:\n",
    "    print(f\"{c} is lesser than {a,b}\")\n",
    "    "
   ]
  },
  {
   "cell_type": "code",
   "execution_count": 15,
   "metadata": {},
   "outputs": [
    {
     "name": "stdout",
     "output_type": "stream",
     "text": [
      "25\n"
     ]
    }
   ],
   "source": [
    "a=int(input(\"Enter first number: \"))\n",
    "b=int(input(\"Enter second number: \"))\n",
    "\n",
    "opt=input(\"Enter the operations: \")\n",
    "\n",
    "if opt==\"+\":\n",
    "    print(a+b)\n",
    "elif opt==\"-\":\n",
    "    print(a-b)\n",
    "elif opt==\"*\":\n",
    "    print(a*b)\n",
    "elif opt==\"/\":\n",
    "    print(a/b) \n",
    "else:\n",
    "    print(\"Enter basic operators\")"
   ]
  },
  {
   "cell_type": "code",
   "execution_count": null,
   "metadata": {},
   "outputs": [],
   "source": []
  }
 ],
 "metadata": {
  "kernelspec": {
   "display_name": "Python 3",
   "language": "python",
   "name": "python3"
  },
  "language_info": {
   "codemirror_mode": {
    "name": "ipython",
    "version": 3
   },
   "file_extension": ".py",
   "mimetype": "text/x-python",
   "name": "python",
   "nbconvert_exporter": "python",
   "pygments_lexer": "ipython3",
   "version": "3.12.6"
  }
 },
 "nbformat": 4,
 "nbformat_minor": 2
}
