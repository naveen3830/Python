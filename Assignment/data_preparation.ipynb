{
 "cells": [
  {
   "cell_type": "code",
   "execution_count": 15,
   "metadata": {},
   "outputs": [],
   "source": [
    "import pandas as pd"
   ]
  },
  {
   "cell_type": "code",
   "execution_count": 2,
   "metadata": {},
   "outputs": [],
   "source": [
    "sales_data={\n",
    "    'Timestamp': [\n",
    "        \"21-07-2021 00:00\",\n",
    "        \"28-07-2021 00:00\",\n",
    "        \"04-08-2021 00:00\",\n",
    "        \"11-08-2021 00:00\",\n",
    "        \"18-08-2021 00:00\",\n",
    "        \"25-08-2021 00:00\",\n",
    "        \"01-09-2021 00:00\",\n",
    "        \"08-09-2021 00:00\",\n",
    "        \"15-09-2021 00:00\",\n",
    "        \"22-09-2021 00:00\",\n",
    "        \"29-09-2021 00:00\",\n",
    "        \"06-10-2021 00:00\",\n",
    "        \"13-10-2021 00:00\"\n",
    "    ],\n",
    "    'Sales':[\n",
    "        129420,\n",
    "        150990,\n",
    "        107850,\n",
    "        53925,\n",
    "        215700,\n",
    "        291195,\n",
    "        107850,\n",
    "        312765,\n",
    "        431400,\n",
    "        97065,\n",
    "        204915,\n",
    "        215700,\n",
    "        53925\n",
    "    ]\n",
    "}\n",
    "\n",
    "sales_data=pd.DataFrame(sales_data)\n",
    "sales_data['Timestamp']=pd.to_datetime(sales_data[\"Timestamp\"], format=\"%d-%m-%Y %H:%M\")\n",
    "sales_data.to_csv(\"sales_data.csv\", index=False)"
   ]
  },
  {
   "cell_type": "code",
   "execution_count": 3,
   "metadata": {},
   "outputs": [],
   "source": [
    "tv_grp_data={\n",
    "    'Timestamp':[\n",
    "        \"04-08-2021 00:00\",\n",
    "        \"11-08-2021 00:00\",\n",
    "        \"18-08-2021 00:00\",\n",
    "        \"25-08-2021 00:00\",\n",
    "        \"01-09-2021 00:00\"\n",
    "    ],\n",
    "    'TV GRPs': [\n",
    "        5,\n",
    "        17,\n",
    "        25,\n",
    "        29,\n",
    "        23\n",
    "    ]\n",
    "}\n",
    "\n",
    "tv_grp_data=pd.DataFrame(tv_grp_data)\n",
    "tv_grp_data[\"Timestamp\"]=pd.to_datetime(tv_grp_data[\"Timestamp\"], format=\"%d-%m-%Y %H:%M\")\n",
    "tv_grp_data.to_csv('tv_grp_data.csv',index=False)"
   ]
  },
  {
   "cell_type": "code",
   "execution_count": 4,
   "metadata": {},
   "outputs": [],
   "source": [
    "video_impressions_data = {\n",
    "    'Timestamp': [\n",
    "        \"21-07-2021 00:00\",\n",
    "        \"28-07-2021 00:00\",\n",
    "        \"04-08-2021 00:00\",\n",
    "        \"11-08-2021 00:00\",\n",
    "        \"18-08-2021 00:00\",\n",
    "        \"25-08-2021 00:00\",\n",
    "        \"01-09-2021 00:00\"\n",
    "    ],\n",
    "    'Video Impressions': [\n",
    "        2500,\n",
    "        5000,\n",
    "        10000,\n",
    "        7500,\n",
    "        11250,\n",
    "        7000,\n",
    "        5750\n",
    "    ]\n",
    "}\n",
    "\n",
    "video_impressions_data=pd.DataFrame(video_impressions_data)\n",
    "video_impressions_data[\"Timestamp\"]=pd.to_datetime(video_impressions_data[\"Timestamp\"], format=\"%d-%m-%Y %H:%M\")\n",
    "video_impressions_data.to_csv('video_impressions_data.csv', index=False)"
   ]
  }
 ],
 "metadata": {
  "kernelspec": {
   "display_name": "Python 3",
   "language": "python",
   "name": "python3"
  },
  "language_info": {
   "codemirror_mode": {
    "name": "ipython",
    "version": 3
   },
   "file_extension": ".py",
   "mimetype": "text/x-python",
   "name": "python",
   "nbconvert_exporter": "python",
   "pygments_lexer": "ipython3",
   "version": "3.12.6"
  }
 },
 "nbformat": 4,
 "nbformat_minor": 2
}
