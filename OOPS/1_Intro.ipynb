{
 "cells": [
  {
   "cell_type": "markdown",
   "metadata": {},
   "source": [
    "OOPs stands for Object Oriented Programming, the main purpose of oops is to deal with real world entities using programming."
   ]
  },
  {
   "cell_type": "markdown",
   "metadata": {},
   "source": [
    "# Components of OOPs\n",
    "1. Class and Object\n",
    "2. Encapsulation\n",
    "3. Inheritance\n",
    "4. Polymorphism\n",
    "5. Abstraction"
   ]
  },
  {
   "cell_type": "markdown",
   "metadata": {},
   "source": [
    "# Class\n",
    "\n",
    "* A class is a collection of objects, it does not take any space in memory.\n",
    "* A class is essentially a blueprint for creating objects(instances).\n",
    "* A class defines set of attributes(data) and methods(functions) for representing the behaviour of an object."
   ]
  },
  {
   "cell_type": "code",
   "execution_count": 6,
   "metadata": {},
   "outputs": [],
   "source": [
    "class Person:\n",
    "    def __init__(self,name,age):\n",
    "        self.name=name  #Data member(instance variable)\n",
    "        self.age=age\n",
    "    \n",
    "    def greet(self):\n",
    "        print(f\"Hello, my name is {self.name} and I am {self.age} years old.\") #Member function(method)\n",
    "        "
   ]
  },
  {
   "cell_type": "markdown",
   "metadata": {},
   "source": [
    "# Object\n",
    "\n",
    "* An object is a instance (member) of a class that executes the class. Once the object is created it takes space like other variables in the memory.\n",
    "* When you create an object, you are instantiating [creating objects to access its data and methods]\n",
    "* Every object in python has a unique identity id.\n",
    "\n",
    "# Components of object\n",
    "\n",
    "* Attributes(State): These are the variables that holds the data, they define the current state of an object.\n",
    "* Methods(Behaviour): These are the functions that are defined within the class that describe the behaviour of the object."
   ]
  },
  {
   "cell_type": "code",
   "execution_count": 2,
   "metadata": {},
   "outputs": [
    {
     "name": "stdout",
     "output_type": "stream",
     "text": [
      "Hello, my name is Naveen and I am 22 years old.\n"
     ]
    }
   ],
   "source": [
    "person=Person(\"Naveen\",22)\n",
    "person.greet()"
   ]
  },
  {
   "cell_type": "code",
   "execution_count": 3,
   "metadata": {},
   "outputs": [
    {
     "name": "stdout",
     "output_type": "stream",
     "text": [
      "Hello, my name is Sachin and I am 52 years old.\n"
     ]
    }
   ],
   "source": [
    "person1=Person(\"Sachin\",52)\n",
    "person1.greet()"
   ]
  },
  {
   "cell_type": "markdown",
   "metadata": {},
   "source": [
    "# Constructor\n",
    "\n",
    "* In python, a constructor is a special method that initializes a new object. In Python, the role of the constructor is primarily played by the __init__ method.\n",
    "* When you create a new instance of a class, python automatically calls the constructor to set up the objects initial state.\n",
    "* One of the main need of constructor is to write configuration related code."
   ]
  },
  {
   "cell_type": "code",
   "execution_count": 4,
   "metadata": {},
   "outputs": [],
   "source": [
    "# Defining default parameters\n",
    "class Car:\n",
    "    def __init__(self,name,brand,year=2020):\n",
    "        self.name=name\n",
    "        self.brand=brand\n",
    "        self.year=year\n",
    "        \n",
    "    def get_details(self):\n",
    "        print(f\"The mobile named {self.name} belonging to the brand {self.brand} was released in the year {self.year}\")"
   ]
  },
  {
   "cell_type": "code",
   "execution_count": 5,
   "metadata": {},
   "outputs": [
    {
     "name": "stdout",
     "output_type": "stream",
     "text": [
      "The mobile named 2 pro belonging to the brand Redmi was released in the year 2020\n"
     ]
    }
   ],
   "source": [
    "mobile=Car(\"2 pro\",\"Redmi\")\n",
    "mobile.get_details()"
   ]
  },
  {
   "cell_type": "code",
   "execution_count": 6,
   "metadata": {},
   "outputs": [
    {
     "data": {
      "text/plain": [
       "2020"
      ]
     },
     "execution_count": 6,
     "metadata": {},
     "output_type": "execute_result"
    }
   ],
   "source": [
    "# Accessing data(attributes)\n",
    "mobile.year"
   ]
  },
  {
   "cell_type": "code",
   "execution_count": 7,
   "metadata": {},
   "outputs": [
    {
     "data": {
      "text/plain": [
       "'2 pro'"
      ]
     },
     "execution_count": 7,
     "metadata": {},
     "output_type": "execute_result"
    }
   ],
   "source": [
    "mobile.name"
   ]
  },
  {
   "cell_type": "markdown",
   "metadata": {},
   "source": [
    "# Default Constructor\n",
    "\n",
    "A default constructor is a constructor that takes no argument except (self). It is useful when you want to create objects with fixed or default values."
   ]
  },
  {
   "cell_type": "code",
   "execution_count": 7,
   "metadata": {},
   "outputs": [],
   "source": [
    "class dog:\n",
    "    def __init__(self):\n",
    "        print(\"Default constructor is called\")\n",
    "        self.name=\"Ronnie\"\n",
    "        self.breed=\"Germen Shepherd\"\n",
    "        \n",
    "    def get_dog_details(self):\n",
    "        print(f\"A dog named {self.name} with breed {self.breed}\")"
   ]
  },
  {
   "cell_type": "code",
   "execution_count": 8,
   "metadata": {},
   "outputs": [
    {
     "name": "stdout",
     "output_type": "stream",
     "text": [
      "Default constructor is called\n",
      "Ronnie\n",
      "A dog named Ronnie with breed Germen Shepherd\n"
     ]
    }
   ],
   "source": [
    "dog1=dog()\n",
    "print(dog1.name)\n",
    "dog1.get_dog_details()"
   ]
  },
  {
   "cell_type": "markdown",
   "metadata": {},
   "source": [
    "# Parametrized Constructor\n",
    "\n",
    "* A parametrized constructor is a constructor that takes arguments to initialize object attributes with specific values\n",
    "\n"
   ]
  },
  {
   "cell_type": "code",
   "execution_count": 10,
   "metadata": {},
   "outputs": [
    {
     "name": "stdout",
     "output_type": "stream",
     "text": [
      "Hello, my name is Naveen and I am 22 years old.\n"
     ]
    }
   ],
   "source": [
    "class Person:\n",
    "    def __init__(self,name,age):\n",
    "        self.name=name  #Data member(instance variable)\n",
    "        self.age=age\n",
    "    \n",
    "    def greet(self):\n",
    "        print(f\"Hello, my name is {self.name} and I am {self.age} years old.\") #Member function(method)\n",
    "        \n",
    "person=Person(name=\"Naveen\",age=\"22\")\n",
    "person.greet()"
   ]
  },
  {
   "cell_type": "markdown",
   "metadata": {},
   "source": [
    "# Constructor with default values\n",
    "\n",
    "This type of constructor uses default parameter values to provide flexibility. If no value is passed for a parameter during object creation, the default value is used."
   ]
  },
  {
   "cell_type": "code",
   "execution_count": 11,
   "metadata": {},
   "outputs": [
    {
     "name": "stdout",
     "output_type": "stream",
     "text": [
      "The car named Vitara belongs to the brand Maruti was released in the year 2020\n"
     ]
    }
   ],
   "source": [
    "# Defining default parameters\n",
    "class Car:\n",
    "    def __init__(self,name=\"Vitara\",brand=\"Maruti\",year=2020):\n",
    "        self.name=name\n",
    "        self.brand=brand\n",
    "        self.year=year\n",
    "        \n",
    "    def get_details(self):\n",
    "        print(f\"The car named {self.name} belongs to the brand {self.brand} was released in the year {self.year}\")\n",
    "        \n",
    "car1 = Car()\n",
    "car1.get_details()"
   ]
  },
  {
   "cell_type": "code",
   "execution_count": 12,
   "metadata": {},
   "outputs": [
    {
     "name": "stdout",
     "output_type": "stream",
     "text": [
      "The car named Honda belongs to the brand Civic was released in the year 2020\n"
     ]
    }
   ],
   "source": [
    "car2 = Car(\"Honda\", \"Civic\")\n",
    "car2.get_details()"
   ]
  },
  {
   "cell_type": "markdown",
   "metadata": {},
   "source": [
    "# Example"
   ]
  },
  {
   "cell_type": "code",
   "execution_count": 13,
   "metadata": {},
   "outputs": [],
   "source": [
    "class MyAtm:\n",
    "    def __init__(self):\n",
    "        print(\"This method initializes the object with initial values\")\n",
    "        self.pin=''\n",
    "        self.balance=0\n",
    "        self.menu()\n",
    "        \n",
    "    def menu(self):\n",
    "        user_input=input(\"\"\"\n",
    "        Hi, how can I help you\n",
    "        1. Press 1 to create pin\n",
    "        2. Press 2 to change pin\n",
    "        3. Press 3 to check balance\n",
    "        4. Press 4 to withdraw\n",
    "        5. Anything else to exit\n",
    "            \"\"\"\n",
    "        )\n",
    "        \n",
    "        if user_input=='1':\n",
    "            self.create_pin()\n",
    "        elif user_input=='2':\n",
    "            self.change_pin()\n",
    "        elif user_input=='3':\n",
    "            self.cheeck_balance()\n",
    "        elif user_input=='4':\n",
    "            self.withdraw_amount()\n",
    "        else:\n",
    "            pass\n",
    "        \n",
    "    def create_pin(self):\n",
    "        user_pin=input(\"Enter your pin\")\n",
    "        self.pin=user_pin\n",
    "        user_balance=int(input(\"Enter your balance\"))\n",
    "        self.balance=user_balance\n",
    "        \n",
    "        print(\"Pin created successfully\")\n",
    "        self.menu()\n",
    "        \n",
    "    def change_pin(self):\n",
    "        old_pin=input(\"Enter old pin: \")\n",
    "        if old_pin==self.pin:\n",
    "            new_pin=input(\"Enter new pin: \")\n",
    "            self.pin=new_pin\n",
    "            print(\"Created new pin successfully\")\n",
    "        else:\n",
    "            print(\"Enter the correct pin\")\n",
    "            self.menu()\n",
    "            \n",
    "    def cheak_balance(self):\n",
    "        user_pin=input('Enter your pin')\n",
    "        if user_pin==self.pin:\n",
    "            print(f\"Your balance is {self.balance}\")\n",
    "        else:\n",
    "            print(\"Wrong pin entered\")\n",
    "            \n",
    "    def withdraw_amount(self):\n",
    "        user_pin=input(\"Enter your pin\")\n",
    "        if user_pin==self.pin:\n",
    "            amount_to_withdraw=int(input('Enter the amount to be withdrawn:'))\n",
    "            if amount_to_withdraw<self.balance:\n",
    "                print(f\"Amount of {amount_to_withdraw} is withdrawn and the remaining the balance is {self.balance-amount_to_withdraw}\")\n",
    "            else:\n",
    "                print(\"You do not have sufficient balance\")\n",
    "        else:\n",
    "            print(\"Wrong pin entered\")\n",
    "        self.menu()"
   ]
  },
  {
   "cell_type": "code",
   "execution_count": 14,
   "metadata": {},
   "outputs": [
    {
     "name": "stdout",
     "output_type": "stream",
     "text": [
      "This method initializes the object with initial values\n",
      "Pin created successfully\n"
     ]
    }
   ],
   "source": [
    "object=MyAtm()"
   ]
  },
  {
   "cell_type": "markdown",
   "metadata": {},
   "source": [
    "# Self\n",
    "\n",
    "* In oops the self parameter points to the object itself, we know that object can access the methods and attributes within the class. Hence we use self to access attribute and methods among the methods of the class.\n",
    "* We can name anything instead if **self**.\n"
   ]
  },
  {
   "cell_type": "code",
   "execution_count": 15,
   "metadata": {},
   "outputs": [],
   "source": [
    "# Creating a data type\n",
    "class Fraction:\n",
    "    def __init__(self,x,y):\n",
    "        self.num=x\n",
    "        self.den=y\n",
    "        \n",
    "    def __str__(self):\n",
    "        return '{}/{}'.format(self.num,self.num)\n",
    "    \n",
    "    def __add__(self,other):\n",
    "        new_num=self.num*other.den+other.num*self.den\n",
    "        new_den=self.den*other.den\n",
    "        \n",
    "        return '{}/{}'.format(new_num,new_den)\n",
    "    \n",
    "    def __sub__(self,other):\n",
    "        new_num=self.num*other.den-other.num*self.den\n",
    "        new_den=self.den*other.den\n",
    "        \n",
    "        return '{}/{}'.format(new_num,new_den)\n",
    "    \n",
    "    def __mul__(self,other):\n",
    "        new_num=self.num*other.num\n",
    "        new_den=self.den*other.den  \n",
    "        \n",
    "        return '{}/{}'.format(new_num,new_den)\n",
    "    \n",
    "    def __truediv__(self,other):\n",
    "        new_num=self.num*other.den\n",
    "        new_den=self.den*other.num \n",
    "        \n",
    "        return '{}/{}'.format(new_num,new_den)"
   ]
  },
  {
   "cell_type": "code",
   "execution_count": 16,
   "metadata": {},
   "outputs": [
    {
     "name": "stdout",
     "output_type": "stream",
     "text": [
      "5/5\n"
     ]
    }
   ],
   "source": [
    "fr1=Fraction(5,5)\n",
    "print(fr1)"
   ]
  },
  {
   "cell_type": "code",
   "execution_count": 17,
   "metadata": {},
   "outputs": [
    {
     "name": "stdout",
     "output_type": "stream",
     "text": [
      "5/5\n"
     ]
    }
   ],
   "source": [
    "fr2=Fraction(5,2)\n",
    "print(fr2)"
   ]
  },
  {
   "cell_type": "code",
   "execution_count": 18,
   "metadata": {},
   "outputs": [
    {
     "name": "stdout",
     "output_type": "stream",
     "text": [
      "35/10\n",
      "-15/10\n",
      "25/10\n",
      "10/25\n"
     ]
    }
   ],
   "source": [
    "print(fr1+fr2)\n",
    "print(fr1-fr2)\n",
    "print(fr1*fr2)\n",
    "print(fr1/fr2)"
   ]
  },
  {
   "cell_type": "code",
   "execution_count": 19,
   "metadata": {},
   "outputs": [],
   "source": [
    "class Point:\n",
    "    def __init__(self,x,y):\n",
    "        self.x_cod=x\n",
    "        self.y_cod=y\n",
    "        \n",
    "    def __str__(self):\n",
    "        return '<{},{}>'.format(self.x_cod,self.y_cod)\n",
    "    \n",
    "    def euclidean_distance(self,other):\n",
    "        return ((self.x_cod-other.x_cod)**2 + (self.y_cod-other.y_cod)**2)**0.5\n",
    "    \n",
    "    def distance_from_origin(self):\n",
    "        return self.euclidean_distance(Point(0,0))\n",
    "        "
   ]
  },
  {
   "cell_type": "code",
   "execution_count": 20,
   "metadata": {},
   "outputs": [
    {
     "name": "stdout",
     "output_type": "stream",
     "text": [
      "<3,2>\n",
      "<1,1>\n"
     ]
    },
    {
     "data": {
      "text/plain": [
       "2.23606797749979"
      ]
     },
     "execution_count": 20,
     "metadata": {},
     "output_type": "execute_result"
    }
   ],
   "source": [
    "p1=Point(3,2)\n",
    "print(p1)\n",
    "p2=Point(1,1)\n",
    "print(p2)\n",
    "\n",
    "p1.euclidean_distance(p2)"
   ]
  },
  {
   "cell_type": "code",
   "execution_count": 21,
   "metadata": {},
   "outputs": [
    {
     "data": {
      "text/plain": [
       "3.605551275463989"
      ]
     },
     "execution_count": 21,
     "metadata": {},
     "output_type": "execute_result"
    }
   ],
   "source": [
    "p1.distance_from_origin()"
   ]
  },
  {
   "cell_type": "code",
   "execution_count": 22,
   "metadata": {},
   "outputs": [],
   "source": [
    "# Line class\n",
    "class Line:\n",
    "    def __init__(self,A,B,C):\n",
    "        self.A=A\n",
    "        self.B=B\n",
    "        self.C=C\n",
    "        \n",
    "    def __str__(self):\n",
    "        return '{}x+{}y+{}c'.format(self.A,self.B,self.C)\n",
    "    \n",
    "    def point_on_line(line,point):\n",
    "        if line.A*point.x_cod+line.B*point.y_cod+line.C==0:\n",
    "            return \"Point lies on the line\"        \n",
    "        else:\n",
    "            return \"Point does not lie on the line\"\n",
    "        \n",
    "    def shortest_distance(line,point):\n",
    "        return abs(line.A*point.x_cod+line.B*point.y_cod+line.C)/((line.A**2+line.B**2)**0.5)\n",
    "    \n",
    "    def intersect_lines(line,line1):\n",
    "        D=line.A*line1.B-line1.A*line.B\n",
    "        if D!=0:\n",
    "            return \"The lines intersect with each other\"\n",
    "        else:\n",
    "            return \"The lines are parallel\"\n",
    "        "
   ]
  },
  {
   "cell_type": "code",
   "execution_count": 23,
   "metadata": {},
   "outputs": [
    {
     "name": "stdout",
     "output_type": "stream",
     "text": [
      "3x+4y+-2c\n",
      "<1,1>\n"
     ]
    }
   ],
   "source": [
    "l1=Line(3,4,-2)\n",
    "print(l1)\n",
    "p=Point(1,1)\n",
    "print(p)"
   ]
  },
  {
   "cell_type": "code",
   "execution_count": 24,
   "metadata": {},
   "outputs": [
    {
     "data": {
      "text/plain": [
       "'Point does not lie on the line'"
      ]
     },
     "execution_count": 24,
     "metadata": {},
     "output_type": "execute_result"
    }
   ],
   "source": [
    "l1.point_on_line(p)"
   ]
  },
  {
   "cell_type": "code",
   "execution_count": 25,
   "metadata": {},
   "outputs": [
    {
     "data": {
      "text/plain": [
       "1.0"
      ]
     },
     "execution_count": 25,
     "metadata": {},
     "output_type": "execute_result"
    }
   ],
   "source": [
    "l1.shortest_distance(p)"
   ]
  },
  {
   "cell_type": "code",
   "execution_count": 26,
   "metadata": {},
   "outputs": [],
   "source": [
    "l1=Line(3,4,5)\n",
    "l2=Line(7,8,45)"
   ]
  },
  {
   "cell_type": "code",
   "execution_count": 27,
   "metadata": {},
   "outputs": [
    {
     "data": {
      "text/plain": [
       "'The lines intersect with each other'"
      ]
     },
     "execution_count": 27,
     "metadata": {},
     "output_type": "execute_result"
    }
   ],
   "source": [
    "l1.intersect_lines(l2)"
   ]
  },
  {
   "cell_type": "code",
   "execution_count": 28,
   "metadata": {},
   "outputs": [],
   "source": [
    "class Person:\n",
    "    def __init__(self,name_input,country_input):\n",
    "        self.name=name_input\n",
    "        self.country=country_input\n",
    "        \n",
    "    def greet(self):\n",
    "        if self.country==\"India\":\n",
    "            return (\"Namaste\",self.name)\n",
    "        else:\n",
    "            return (\"Hello\",self.name)"
   ]
  },
  {
   "cell_type": "code",
   "execution_count": 32,
   "metadata": {},
   "outputs": [
    {
     "data": {
      "text/plain": [
       "('Namaste', 'Naveen')"
      ]
     },
     "execution_count": 32,
     "metadata": {},
     "output_type": "execute_result"
    }
   ],
   "source": [
    "p=Person(\"Naveen\",\"India\")\n",
    "p.greet()"
   ]
  },
  {
   "cell_type": "code",
   "execution_count": 34,
   "metadata": {},
   "outputs": [],
   "source": [
    "p.gender=\"Male\""
   ]
  },
  {
   "cell_type": "code",
   "execution_count": 35,
   "metadata": {},
   "outputs": [
    {
     "data": {
      "text/plain": [
       "'Male'"
      ]
     },
     "execution_count": 35,
     "metadata": {},
     "output_type": "execute_result"
    }
   ],
   "source": [
    "p.gender"
   ]
  },
  {
   "cell_type": "markdown",
   "metadata": {},
   "source": [
    "# Reference Variables\n",
    "\n",
    "* Reference variables hold the objects\n",
    "* We can create objects without reference variables as well\n",
    "* An object can have multiple reference variables"
   ]
  },
  {
   "cell_type": "code",
   "execution_count": 37,
   "metadata": {},
   "outputs": [
    {
     "data": {
      "text/plain": [
       "<__main__.Person at 0x194b48ae0c0>"
      ]
     },
     "execution_count": 37,
     "metadata": {},
     "output_type": "execute_result"
    }
   ],
   "source": [
    "class Person:\n",
    "    def __init__(self):\n",
    "        self.name=\"Naveen\"\n",
    "        self.country=\"India\"\n",
    "        \n",
    "Person()"
   ]
  },
  {
   "cell_type": "code",
   "execution_count": 40,
   "metadata": {},
   "outputs": [],
   "source": [
    "p=Person()\n",
    "q=p"
   ]
  },
  {
   "cell_type": "code",
   "execution_count": 41,
   "metadata": {},
   "outputs": [
    {
     "name": "stdout",
     "output_type": "stream",
     "text": [
      "1738195666464\n",
      "1738195666464\n"
     ]
    }
   ],
   "source": [
    "print(id(p))\n",
    "print(id(q))"
   ]
  },
  {
   "cell_type": "markdown",
   "metadata": {},
   "source": [
    "# Pass by Reference"
   ]
  },
  {
   "cell_type": "code",
   "execution_count": 48,
   "metadata": {},
   "outputs": [
    {
     "name": "stdout",
     "output_type": "stream",
     "text": [
      "Hi my name is Naveen, and my gender is male\n",
      "Ankit\n",
      "Male\n"
     ]
    }
   ],
   "source": [
    "class Person:\n",
    "    def __init__(self,name,gender):\n",
    "        self.name=name\n",
    "        self.gender=gender\n",
    "        \n",
    "def greet(person):\n",
    "    print(f\"Hi my name is {person.name}, and my gender is {person.gender}\")\n",
    "    p1=Person(\"Ankit\",\"Male\")\n",
    "    return p1\n",
    "\n",
    "p=Person(\"Naveen\",\"male\")\n",
    "x=greet(p) \n",
    "print(x.name)\n",
    "print(x.gender)"
   ]
  },
  {
   "cell_type": "code",
   "execution_count": 49,
   "metadata": {},
   "outputs": [
    {
     "name": "stdout",
     "output_type": "stream",
     "text": [
      "1738194886032\n",
      "1738194886032\n",
      "Hi my name is Naveen, and my gender is male\n"
     ]
    }
   ],
   "source": [
    "class Person:\n",
    "    def __init__(self,name,gender):\n",
    "        self.name=name\n",
    "        self.gender=gender\n",
    "        \n",
    "def greet(person):\n",
    "    print(id(person))\n",
    "    print(f\"Hi my name is {person.name}, and my gender is {person.gender}\")\n",
    "\n",
    "# Objects are mutable(Accepts in memory changes)\n",
    "p=Person(\"Naveen\",\"male\")\n",
    "print(id(p))\n",
    "greet(p)"
   ]
  }
 ],
 "metadata": {
  "kernelspec": {
   "display_name": "Python 3",
   "language": "python",
   "name": "python3"
  },
  "language_info": {
   "codemirror_mode": {
    "name": "ipython",
    "version": 3
   },
   "file_extension": ".py",
   "mimetype": "text/x-python",
   "name": "python",
   "nbconvert_exporter": "python",
   "pygments_lexer": "ipython3",
   "version": "3.13.3"
  }
 },
 "nbformat": 4,
 "nbformat_minor": 2
}
