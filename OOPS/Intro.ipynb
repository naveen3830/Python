{
 "cells": [
  {
   "cell_type": "markdown",
   "metadata": {},
   "source": [
    "OOPs stands for Object Oriented Programming, the main purpose of oops is to deal with real world entities using programming."
   ]
  },
  {
   "cell_type": "markdown",
   "metadata": {},
   "source": [
    "# Components of OOPs\n",
    "1. Class and Object\n",
    "2. Encapsulation\n",
    "3. Inheritance\n",
    "4. Polymorphism\n",
    "5. Abstraction"
   ]
  },
  {
   "cell_type": "markdown",
   "metadata": {},
   "source": [
    "# Class\n",
    "\n",
    "* A class is a collection of objects, it does not take any space in memory.\n",
    "* A class is essentially a blueprint for creating objects(instances).\n",
    "* A class defines set of attributes(data) and methods(functions) for representing the behaviour of an object."
   ]
  },
  {
   "cell_type": "code",
   "execution_count": 3,
   "metadata": {},
   "outputs": [],
   "source": [
    "class Person:\n",
    "    def __init__(self,name,age):\n",
    "        self.name=name  #Data member(instance variable)\n",
    "        self.age=age\n",
    "    \n",
    "    def greet(self):\n",
    "        print(f\"Hello, my name is {self.name} and I am {self.age} years old.\") #Member function(method)\n",
    "        "
   ]
  },
  {
   "cell_type": "markdown",
   "metadata": {},
   "source": [
    "# Object\n",
    "\n",
    "* An object is a instance(member) of a class that executes the class. Once the object is created it takes space like other variables in the memory.\n",
    "* When you create an object, you are instantiating [creating objects to access its data and methods]\n",
    "* Every object in python has a unique identity id.\n",
    "\n",
    "# Components of object\n",
    "\n",
    "* Attributes(State): These are the variables that holds the data, they define the current state of an object.\n",
    "* Methods(Behaviour): These are the functions that are defined within the class that describe the behaviour of the object."
   ]
  },
  {
   "cell_type": "code",
   "execution_count": 7,
   "metadata": {},
   "outputs": [
    {
     "name": "stdout",
     "output_type": "stream",
     "text": [
      "Hello, my name is Naveen and I am 22 years old.\n"
     ]
    }
   ],
   "source": [
    "person=Person(\"Naveen\",22)\n",
    "person.greet()"
   ]
  },
  {
   "cell_type": "code",
   "execution_count": 11,
   "metadata": {},
   "outputs": [
    {
     "name": "stdout",
     "output_type": "stream",
     "text": [
      "Hello, my name is Sachin and I am 52 years old.\n"
     ]
    }
   ],
   "source": [
    "person1=Person(\"Sachin\",52)\n",
    "person1.greet()"
   ]
  },
  {
   "cell_type": "markdown",
   "metadata": {},
   "source": [
    "# Constructor\n",
    "\n",
    "* In python, a constructor is a special method that initializes a new object. In Python, the role of the constructor is primarily played by the __init__ method.\n",
    "* "
   ]
  },
  {
   "cell_type": "code",
   "execution_count": null,
   "metadata": {},
   "outputs": [],
   "source": []
  }
 ],
 "metadata": {
  "kernelspec": {
   "display_name": "Python 3",
   "language": "python",
   "name": "python3"
  },
  "language_info": {
   "codemirror_mode": {
    "name": "ipython",
    "version": 3
   },
   "file_extension": ".py",
   "mimetype": "text/x-python",
   "name": "python",
   "nbconvert_exporter": "python",
   "pygments_lexer": "ipython3",
   "version": "3.12.6"
  }
 },
 "nbformat": 4,
 "nbformat_minor": 2
}
