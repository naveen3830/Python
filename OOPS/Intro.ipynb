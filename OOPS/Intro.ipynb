{
 "cells": [
  {
   "cell_type": "markdown",
   "metadata": {},
   "source": [
    "OOPs stands for Object Oriented Programming, the main purpose of oops is to deal with real world entities using programming."
   ]
  },
  {
   "cell_type": "markdown",
   "metadata": {},
   "source": [
    "# Components of OOPs\n",
    "1. Class and Object\n",
    "2. Encapsulation\n",
    "3. Inheritance\n",
    "4. Polymorphism\n",
    "5. Abstraction"
   ]
  },
  {
   "cell_type": "markdown",
   "metadata": {},
   "source": [
    "# Class\n",
    "\n",
    "* A class is a collection of objects, it does not take any space in memory.\n",
    "* A class is essentially a blueprint for creating objects(instances).\n",
    "* A class defines set of attributes(data) and methods(functions) for representing the behaviour of an object."
   ]
  },
  {
   "cell_type": "code",
   "execution_count": 3,
   "metadata": {},
   "outputs": [],
   "source": [
    "class Person:\n",
    "    def __init__(self,name,age):\n",
    "        self.name=name  #Data member(instance variable)\n",
    "        self.age=age\n",
    "    \n",
    "    def greet(self):\n",
    "        print(f\"Hello, my name is {self.name} and I am {self.age} years old.\") #Member function(method)\n",
    "        "
   ]
  },
  {
   "cell_type": "markdown",
   "metadata": {},
   "source": [
    "# Object\n",
    "\n",
    "* An object is a instance(member) of a class that executes the class. Once the object is created it takes space like other variables in the memory.\n",
    "* When you create an object, you are instantiating [creating objects to access its data and methods]\n",
    "* Every object in python has a unique identity id.\n",
    "\n",
    "# Components of object\n",
    "\n",
    "* Attributes(State): These are the variables that holds the data, they define the current state of an object.\n",
    "* Methods(Behaviour): These are the functions that are defined within the class that describe the behaviour of the object."
   ]
  },
  {
   "cell_type": "code",
   "execution_count": 7,
   "metadata": {},
   "outputs": [
    {
     "name": "stdout",
     "output_type": "stream",
     "text": [
      "Hello, my name is Naveen and I am 22 years old.\n"
     ]
    }
   ],
   "source": [
    "person=Person(\"Naveen\",22)\n",
    "person.greet()"
   ]
  },
  {
   "cell_type": "code",
   "execution_count": 11,
   "metadata": {},
   "outputs": [
    {
     "name": "stdout",
     "output_type": "stream",
     "text": [
      "Hello, my name is Sachin and I am 52 years old.\n"
     ]
    }
   ],
   "source": [
    "person1=Person(\"Sachin\",52)\n",
    "person1.greet()"
   ]
  },
  {
   "cell_type": "markdown",
   "metadata": {},
   "source": [
    "# Constructor\n",
    "\n",
    "* In python, a constructor is a special method that initializes a new object. In Python, the role of the constructor is primarily played by the __init__ method.\n",
    "* When you create a new instance of a class, python automatically calls the constructor to set up the objects initial state."
   ]
  },
  {
   "cell_type": "code",
   "execution_count": 6,
   "metadata": {},
   "outputs": [],
   "source": [
    "# Defining default parameters\n",
    "class Car:\n",
    "    def __init__(self,name,brand,year=2020):\n",
    "        self.name=name\n",
    "        self.brand=brand\n",
    "        self.year=year\n",
    "        \n",
    "    def get_details(self):\n",
    "        print(f\"The mobile named {self.name} belonging to the brand {self.brand} was released in the year {self.year}\")"
   ]
  },
  {
   "cell_type": "code",
   "execution_count": 11,
   "metadata": {},
   "outputs": [
    {
     "name": "stdout",
     "output_type": "stream",
     "text": [
      "The mobile named 2 pro belonging to the brand Redmi was released in the year 2020\n"
     ]
    }
   ],
   "source": [
    "mobile=Car(\"2 pro\",\"Redmi\")\n",
    "mobile.get_details()"
   ]
  },
  {
   "cell_type": "code",
   "execution_count": 12,
   "metadata": {},
   "outputs": [
    {
     "data": {
      "text/plain": [
       "2020"
      ]
     },
     "execution_count": 12,
     "metadata": {},
     "output_type": "execute_result"
    }
   ],
   "source": [
    "# Accessing data(attributes)\n",
    "mobile.year"
   ]
  },
  {
   "cell_type": "code",
   "execution_count": 13,
   "metadata": {},
   "outputs": [
    {
     "data": {
      "text/plain": [
       "'2 pro'"
      ]
     },
     "execution_count": 13,
     "metadata": {},
     "output_type": "execute_result"
    }
   ],
   "source": [
    "mobile.name"
   ]
  },
  {
   "cell_type": "markdown",
   "metadata": {},
   "source": [
    "# Default Constructor\n",
    "\n",
    "A default constructor is a constructor that takes no argument except (self). It is useful when you want to create objects with fixed or default values."
   ]
  },
  {
   "cell_type": "code",
   "execution_count": 14,
   "metadata": {},
   "outputs": [],
   "source": [
    "class dog:\n",
    "    def __init__(self):\n",
    "        print(\"Default constructor is called\")\n",
    "        self.name=\"Ronnie\"\n",
    "        self.breed=\"Germen Shepherd\"\n",
    "        \n",
    "    def get_dog_details(self):\n",
    "        print(f\"A dog named {self.name} with breed {self.breed}\")"
   ]
  },
  {
   "cell_type": "code",
   "execution_count": 30,
   "metadata": {},
   "outputs": [
    {
     "name": "stdout",
     "output_type": "stream",
     "text": [
      "Default constructor is called\n",
      "Ronnie\n",
      "A dog named Ronnie with breed Germen Shepherd\n"
     ]
    }
   ],
   "source": [
    "dog1=dog()\n",
    "print(dog1.name)\n",
    "dog1.get_dog_details()"
   ]
  },
  {
   "cell_type": "markdown",
   "metadata": {},
   "source": [
    "# Parametrized Constructor\n",
    "\n",
    "* A parametrized constructor is a constructor that takes arguments to initialize object attributes with specific values\n",
    "\n"
   ]
  },
  {
   "cell_type": "code",
   "execution_count": 19,
   "metadata": {},
   "outputs": [
    {
     "name": "stdout",
     "output_type": "stream",
     "text": [
      "Hello, my name is Naveen and I am 22 years old.\n"
     ]
    }
   ],
   "source": [
    "class Person:\n",
    "    def __init__(self,name,age):\n",
    "        self.name=name  #Data member(instance variable)\n",
    "        self.age=age\n",
    "    \n",
    "    def greet(self):\n",
    "        print(f\"Hello, my name is {self.name} and I am {self.age} years old.\") #Member function(method)\n",
    "        \n",
    "person=Person(name=\"Naveen\",age=\"22\")\n",
    "person.greet()"
   ]
  },
  {
   "cell_type": "markdown",
   "metadata": {},
   "source": [
    "# Constructor with default values\n",
    "\n",
    "This type of constructor uses default parameter values to provide flexibility. If no value is passed for a parameter during object creation, the default value is used."
   ]
  },
  {
   "cell_type": "code",
   "execution_count": 26,
   "metadata": {},
   "outputs": [
    {
     "name": "stdout",
     "output_type": "stream",
     "text": [
      "The car named Vitara belongs to the brand Maruti was released in the year 2020\n"
     ]
    }
   ],
   "source": [
    "# Defining default parameters\n",
    "class Car:\n",
    "    def __init__(self,name=\"Vitara\",brand=\"Maruti\",year=2020):\n",
    "        self.name=name\n",
    "        self.brand=brand\n",
    "        self.year=year\n",
    "        \n",
    "    def get_details(self):\n",
    "        print(f\"The car named {self.name} belongs to the brand {self.brand} was released in the year {self.year}\")\n",
    "        \n",
    "car1 = Car()\n",
    "car1.get_details()"
   ]
  },
  {
   "cell_type": "code",
   "execution_count": 27,
   "metadata": {},
   "outputs": [
    {
     "name": "stdout",
     "output_type": "stream",
     "text": [
      "The car named Honda belongs to the brand Civic was released in the year 2020\n"
     ]
    }
   ],
   "source": [
    "car2 = Car(\"Honda\", \"Civic\")\n",
    "car2.get_details()"
   ]
  },
  {
   "cell_type": "code",
   "execution_count": null,
   "metadata": {},
   "outputs": [],
   "source": []
  }
 ],
 "metadata": {
  "kernelspec": {
   "display_name": "Python 3",
   "language": "python",
   "name": "python3"
  },
  "language_info": {
   "codemirror_mode": {
    "name": "ipython",
    "version": 3
   },
   "file_extension": ".py",
   "mimetype": "text/x-python",
   "name": "python",
   "nbconvert_exporter": "python",
   "pygments_lexer": "ipython3",
   "version": "3.12.6"
  }
 },
 "nbformat": 4,
 "nbformat_minor": 2
}
