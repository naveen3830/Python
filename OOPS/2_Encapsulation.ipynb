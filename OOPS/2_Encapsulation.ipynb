{
 "cells": [
  {
   "cell_type": "markdown",
   "metadata": {},
   "source": [
    "# Encapsulation\n",
    "\n",
    "* Encapsulation allows you control how the data within an object is accessed and modified.\n",
    "* Instead of allowing direct manipulation of attributes we provide public methods (like getters and setters method) to interact with the data attributes.\n",
    "* Instance Variable: It is a variable whose value is different for different objects.\n",
    "* Static Variable: It is a variable whose value is same for all the objects."
   ]
  },
  {
   "cell_type": "code",
   "execution_count": 1,
   "metadata": {},
   "outputs": [
    {
     "name": "stdout",
     "output_type": "stream",
     "text": [
      "India\n",
      "England\n"
     ]
    }
   ],
   "source": [
    "class Person:\n",
    "    def __init__(self,name,country):\n",
    "        self.name=name\n",
    "        self.country=country\n",
    "        \n",
    "p1=Person(\"Naveen\",\"India\")\n",
    "p2=Person(\"Rashford\",\"England\")\n",
    "\n",
    "# The instance variable country has two different variables for different objects\n",
    "print(p1.country)\n",
    "print(p2.country)"
   ]
  },
  {
   "cell_type": "code",
   "execution_count": 17,
   "metadata": {},
   "outputs": [],
   "source": [
    "class MyAtm:\n",
    "    def __init__(self):\n",
    "        print(\"This method initializes the object with initial values\")\n",
    "        self.pin=''\n",
    "        self.__balance=0\n",
    "        self.menu()\n",
    "        \n",
    "    def get_balance(self):\n",
    "        return self.__balance\n",
    "    \n",
    "    def set_balance(self,new_balance):\n",
    "        self.__balance=new_balance\n",
    "        \n",
    "    def menu(self):\n",
    "        user_input=input(\"\"\"\n",
    "        Hi, how can I help you\n",
    "        1. Press 1 to create pin\n",
    "        2. Press 2 to change pin\n",
    "        3. Press 3 to check balance\n",
    "        4. Press 4 to withdraw\n",
    "        5. Anything else to exit\n",
    "            \"\"\"\n",
    "        )\n",
    "        \n",
    "        if user_input=='1':\n",
    "            self.create_pin()\n",
    "        elif user_input=='2':\n",
    "            self.change_pin()\n",
    "        elif user_input=='3':\n",
    "            self.check_balance()\n",
    "        elif user_input=='4':\n",
    "            self.withdraw_amount()\n",
    "        else:\n",
    "            pass\n",
    "        \n",
    "    def create_pin(self):\n",
    "        user_pin=input(\"Enter your pin\")\n",
    "        self.pin=user_pin\n",
    "        user_balance=int(input(\"Enter your balance\"))\n",
    "        self.__balance=user_balance\n",
    "        \n",
    "        print(\"Pin created successfully\")\n",
    "        self.menu()\n",
    "        \n",
    "    def change_pin(self):\n",
    "        old_pin=input(\"Enter old pin: \")\n",
    "        if old_pin==self.pin:\n",
    "            new_pin=input(\"Enter new pin: \")\n",
    "            self.pin=new_pin\n",
    "            print(\"Created new pin successfully\")\n",
    "        else:\n",
    "            print(\"Enter the correct pin\")\n",
    "            self.menu()\n",
    "            \n",
    "    def chek_balance(self):\n",
    "        user_pin=input('Enter your pin')\n",
    "        if user_pin==self.pin:\n",
    "            print(f\"Your balance is {self.__balance}\")\n",
    "        else:\n",
    "            print(\"Wrong pin entered\")\n",
    "            \n",
    "    def withdraw_amount(self):\n",
    "        user_pin=input(\"Enter your pin\")\n",
    "        if user_pin==self.pin:\n",
    "            amount_to_withdraw=int(input('Enter the amount to be withdrawn:'))\n",
    "            if amount_to_withdraw<self.__balance:\n",
    "                print(f\"Amount of {amount_to_withdraw} is withdrawn and the remaining the balance is {self.__balance-amount_to_withdraw}\")\n",
    "            else:\n",
    "                print(\"You do not have sufficient balance\")\n",
    "        else:\n",
    "            print(\"Wrong pin entered\")\n",
    "        self.menu()"
   ]
  },
  {
   "cell_type": "code",
   "execution_count": 18,
   "metadata": {},
   "outputs": [
    {
     "name": "stdout",
     "output_type": "stream",
     "text": [
      "This method initializes the object with initial values\n"
     ]
    }
   ],
   "source": [
    "obj=MyAtm()"
   ]
  },
  {
   "cell_type": "code",
   "execution_count": 4,
   "metadata": {},
   "outputs": [
    {
     "name": "stdout",
     "output_type": "stream",
     "text": [
      "Pin created successfully\n"
     ]
    }
   ],
   "source": [
    "obj.create_pin()\n",
    "obj.__balance=\"hello\""
   ]
  },
  {
   "cell_type": "code",
   "execution_count": 5,
   "metadata": {},
   "outputs": [
    {
     "name": "stdout",
     "output_type": "stream",
     "text": [
      "You do not have sufficient balance\n"
     ]
    }
   ],
   "source": [
    "obj.withdraw_amount()"
   ]
  },
  {
   "cell_type": "code",
   "execution_count": 8,
   "metadata": {},
   "outputs": [
    {
     "name": "stdout",
     "output_type": "stream",
     "text": [
      "<__main__.Person object at 0x000001431932C3E0>\n",
      "Krish\n"
     ]
    }
   ],
   "source": [
    "class Person:\n",
    "    def __init__(self,name_input,gender_input):\n",
    "        self.__name=name_input\n",
    "        self.__gender=gender_input\n",
    "        \n",
    "    def __greet(self):\n",
    "        print(f\"The name and gender of the person is {self.__name} {self.__gender}\")\n",
    "        \n",
    "p=Person(\"Naveen\",\"Male\")\n",
    "print(p)\n",
    "\n",
    "p.__name=\"Krish\"\n",
    "print(p.__name)"
   ]
  },
  {
   "cell_type": "code",
   "execution_count": 13,
   "metadata": {},
   "outputs": [
    {
     "data": {
      "text/plain": [
       "5000"
      ]
     },
     "execution_count": 13,
     "metadata": {},
     "output_type": "execute_result"
    }
   ],
   "source": [
    "# Using getters and setters to access private variables\n",
    "obj.get_balance()"
   ]
  },
  {
   "cell_type": "code",
   "execution_count": 19,
   "metadata": {},
   "outputs": [],
   "source": [
    "obj.set_balance(1000)"
   ]
  },
  {
   "cell_type": "code",
   "execution_count": 20,
   "metadata": {},
   "outputs": [
    {
     "data": {
      "text/plain": [
       "1000"
      ]
     },
     "execution_count": 20,
     "metadata": {},
     "output_type": "execute_result"
    }
   ],
   "source": [
    "obj.get_balance()"
   ]
  },
  {
   "cell_type": "markdown",
   "metadata": {},
   "source": [
    "# Collection of objects"
   ]
  },
  {
   "cell_type": "code",
   "execution_count": 21,
   "metadata": {},
   "outputs": [
    {
     "name": "stdout",
     "output_type": "stream",
     "text": [
      "Naveen 20\n",
      "Krish 21\n",
      "John 22\n"
     ]
    }
   ],
   "source": [
    "class Person:\n",
    "    def __init__(self,name,age):\n",
    "        self.name=name\n",
    "        self.age=age\n",
    "        \n",
    "p1=Person(\"Naveen\",20)\n",
    "p2=Person(\"Krish\",21)\n",
    "p3=Person(\"John\",22)\n",
    "\n",
    "L=[p1,p2,p3]\n",
    "\n",
    "for i in L:\n",
    "    print(i.name,i.age)"
   ]
  },
  {
   "cell_type": "code",
   "execution_count": 23,
   "metadata": {},
   "outputs": [
    {
     "name": "stdout",
     "output_type": "stream",
     "text": [
      "Naveen 20\n",
      "Krish 21\n",
      "John 22\n"
     ]
    }
   ],
   "source": [
    "d={'p1':p1,'p2':p2,'p3':p3}\n",
    "\n",
    "for i in d:\n",
    "    print(d[i].name,d[i].age)"
   ]
  },
  {
   "cell_type": "code",
   "execution_count": 22,
   "metadata": {},
   "outputs": [
    {
     "name": "stdout",
     "output_type": "stream",
     "text": [
      "[<__main__.Person object at 0x00000143193C09B0>, <__main__.Person object at 0x0000014319297380>, <__main__.Person object at 0x00000143192FF680>]\n"
     ]
    }
   ],
   "source": [
    "print(L)"
   ]
  },
  {
   "cell_type": "markdown",
   "metadata": {},
   "source": [
    "# Static Variable\n",
    "\n",
    "* The value of static variable is different for different "
   ]
  },
  {
   "cell_type": "code",
   "execution_count": 30,
   "metadata": {},
   "outputs": [],
   "source": [
    "class MyAtm:\n",
    "    \n",
    "    def __init__(self):\n",
    "        print(\"This method initializes the object with initial values\")\n",
    "        self.pin=''\n",
    "        self.__balance=0\n",
    "        self.count=0\n",
    "        self.count+=1\n",
    "        # self.menu()\n",
    "        \n",
    "    def get_balance(self):\n",
    "        return self.__balance\n",
    "    \n",
    "    def set_balance(self,new_balance):\n",
    "        self.__balance=new_balance\n",
    "        \n",
    "    def menu(self):\n",
    "        user_input=input(\"\"\"\n",
    "        Hi, how can I help you\n",
    "        1. Press 1 to create pin\n",
    "        2. Press 2 to change pin\n",
    "        3. Press 3 to check balance\n",
    "        4. Press 4 to withdraw\n",
    "        5. Anything else to exit\n",
    "            \"\"\"\n",
    "        )\n",
    "        \n",
    "        if user_input=='1':\n",
    "            self.create_pin()\n",
    "        elif user_input=='2':\n",
    "            self.change_pin()\n",
    "        elif user_input=='3':\n",
    "            self.check_balance()\n",
    "        elif user_input=='4':\n",
    "            self.withdraw_amount()\n",
    "        else:\n",
    "            pass\n",
    "        \n",
    "    def create_pin(self):\n",
    "        user_pin=input(\"Enter your pin\")\n",
    "        self.pin=user_pin\n",
    "        user_balance=int(input(\"Enter your balance\"))\n",
    "        self.__balance=user_balance\n",
    "        \n",
    "        print(\"Pin created successfully\")\n",
    "        self.menu()\n",
    "        \n",
    "    def change_pin(self):\n",
    "        old_pin=input(\"Enter old pin: \")\n",
    "        if old_pin==self.pin:\n",
    "            new_pin=input(\"Enter new pin: \")\n",
    "            self.pin=new_pin\n",
    "            print(\"Created new pin successfully\")\n",
    "        else:\n",
    "            print(\"Enter the correct pin\")\n",
    "            self.menu()\n",
    "            \n",
    "    def chek_balance(self):\n",
    "        user_pin=input('Enter your pin')\n",
    "        if user_pin==self.pin:\n",
    "            print(f\"Your balance is {self.__balance}\")\n",
    "        else:\n",
    "            print(\"Wrong pin entered\")\n",
    "            \n",
    "    def withdraw_amount(self):\n",
    "        user_pin=input(\"Enter your pin\")\n",
    "        if user_pin==self.pin:\n",
    "            amount_to_withdraw=int(input('Enter the amount to be withdrawn:'))\n",
    "            if amount_to_withdraw<self.__balance:\n",
    "                print(f\"Amount of {amount_to_withdraw} is withdrawn and the remaining the balance is {self.__balance-amount_to_withdraw}\")\n",
    "            else:\n",
    "                print(\"You do not have sufficient balance\")\n",
    "        else:\n",
    "            print(\"Wrong pin entered\")\n",
    "        self.menu()"
   ]
  },
  {
   "cell_type": "code",
   "execution_count": 31,
   "metadata": {},
   "outputs": [
    {
     "name": "stdout",
     "output_type": "stream",
     "text": [
      "This method initializes the object with initial values\n",
      "This method initializes the object with initial values\n",
      "This method initializes the object with initial values\n",
      "This method initializes the object with initial values\n",
      "This method initializes the object with initial values\n",
      "This method initializes the object with initial values\n"
     ]
    }
   ],
   "source": [
    "c1=MyAtm()\n",
    "c2=MyAtm()\n",
    "c3=MyAtm()\n",
    "c4=MyAtm()\n",
    "c5=MyAtm()\n",
    "c6=MyAtm()"
   ]
  },
  {
   "cell_type": "code",
   "execution_count": 26,
   "metadata": {},
   "outputs": [
    {
     "data": {
      "text/plain": [
       "1"
      ]
     },
     "execution_count": 26,
     "metadata": {},
     "output_type": "execute_result"
    }
   ],
   "source": [
    "c1.count"
   ]
  },
  {
   "cell_type": "code",
   "execution_count": 27,
   "metadata": {},
   "outputs": [
    {
     "data": {
      "text/plain": [
       "1"
      ]
     },
     "execution_count": 27,
     "metadata": {},
     "output_type": "execute_result"
    }
   ],
   "source": [
    "c2.count"
   ]
  },
  {
   "cell_type": "code",
   "execution_count": 46,
   "metadata": {},
   "outputs": [],
   "source": [
    "# Creating a static variable\n",
    "\n",
    "class MyAtm:\n",
    "\n",
    "    counter1=0\n",
    "    __counter=1 # Static variable\n",
    "    \n",
    "    def __init__(self):\n",
    "        print(\"This method initializes the object with initial values\")\n",
    "        self.pin=''\n",
    "        self.__balance=0\n",
    "        self.__counter=MyAtm.__counter\n",
    "        MyAtm.__counter=MyAtm.__counter+1\n",
    "        # self.menu()\n",
    "    \n",
    "    # Utility method\n",
    "    # Static method(class method) - It is a method that is bound to the class and not the object of the class.\n",
    "    @staticmethod\n",
    "    def get_counter():\n",
    "        return MyAtm.__counter\n",
    "    \n",
    "    def get_balance(self):\n",
    "        return self.__balance\n",
    "    \n",
    "    def set_balance(self,new_balance):\n",
    "        self.__balance=new_balance\n",
    "        \n",
    "    def menu(self):\n",
    "        user_input=input(\"\"\"\n",
    "        Hi, how can I help you\n",
    "        1. Press 1 to create pin\n",
    "        2. Press 2 to change pin\n",
    "        3. Press 3 to check balance\n",
    "        4. Press 4 to withdraw\n",
    "        5. Anything else to exit\n",
    "            \"\"\"\n",
    "        )\n",
    "        \n",
    "        if user_input=='1':\n",
    "            self.create_pin()\n",
    "        elif user_input=='2':\n",
    "            self.change_pin()\n",
    "        elif user_input=='3':\n",
    "            self.check_balance()\n",
    "        elif user_input=='4':\n",
    "            self.withdraw_amount()\n",
    "        else:\n",
    "            pass\n",
    "        \n",
    "    def create_pin(self):\n",
    "        user_pin=input(\"Enter your pin\")\n",
    "        self.pin=user_pin\n",
    "        user_balance=int(input(\"Enter your balance\"))\n",
    "        self.__balance=user_balance\n",
    "        \n",
    "        print(\"Pin created successfully\")\n",
    "        self.menu()\n",
    "        \n",
    "    def change_pin(self):\n",
    "        old_pin=input(\"Enter old pin: \")\n",
    "        if old_pin==self.pin:\n",
    "            new_pin=input(\"Enter new pin: \")\n",
    "            self.pin=new_pin\n",
    "            print(\"Created new pin successfully\")\n",
    "        else:\n",
    "            print(\"Enter the correct pin\")\n",
    "            self.menu()\n",
    "            \n",
    "    def chek_balance(self):\n",
    "        user_pin=input('Enter your pin')\n",
    "        if user_pin==self.pin:\n",
    "            print(f\"Your balance is {self.__balance}\")\n",
    "        else:\n",
    "            print(\"Wrong pin entered\")\n",
    "            \n",
    "    def withdraw_amount(self):\n",
    "        user_pin=input(\"Enter your pin\")\n",
    "        if user_pin==self.pin:\n",
    "            amount_to_withdraw=int(input('Enter the amount to be withdrawn:'))\n",
    "            if amount_to_withdraw<self.__balance:\n",
    "                print(f\"Amount of {amount_to_withdraw} is withdrawn and the remaining the balance is {self.__balance-amount_to_withdraw}\")\n",
    "            else:\n",
    "                print(\"You do not have sufficient balance\")\n",
    "        else:\n",
    "            print(\"Wrong pin entered\")\n",
    "        self.menu()"
   ]
  },
  {
   "cell_type": "code",
   "execution_count": 43,
   "metadata": {},
   "outputs": [
    {
     "name": "stdout",
     "output_type": "stream",
     "text": [
      "This method initializes the object with initial values\n",
      "This method initializes the object with initial values\n"
     ]
    }
   ],
   "source": [
    "c1=MyAtm()\n",
    "c2=MyAtm()"
   ]
  },
  {
   "cell_type": "code",
   "execution_count": 48,
   "metadata": {},
   "outputs": [
    {
     "data": {
      "text/plain": [
       "1"
      ]
     },
     "execution_count": 48,
     "metadata": {},
     "output_type": "execute_result"
    }
   ],
   "source": [
    "MyAtm._MyAtm__counter"
   ]
  },
  {
   "cell_type": "code",
   "execution_count": 44,
   "metadata": {},
   "outputs": [
    {
     "data": {
      "text/plain": [
       "3"
      ]
     },
     "execution_count": 44,
     "metadata": {},
     "output_type": "execute_result"
    }
   ],
   "source": [
    "MyAtm.get_counter()"
   ]
  }
 ],
 "metadata": {
  "kernelspec": {
   "display_name": "Python 3",
   "language": "python",
   "name": "python3"
  },
  "language_info": {
   "codemirror_mode": {
    "name": "ipython",
    "version": 3
   },
   "file_extension": ".py",
   "mimetype": "text/x-python",
   "name": "python",
   "nbconvert_exporter": "python",
   "pygments_lexer": "ipython3",
   "version": "3.12.6"
  }
 },
 "nbformat": 4,
 "nbformat_minor": 2
}
