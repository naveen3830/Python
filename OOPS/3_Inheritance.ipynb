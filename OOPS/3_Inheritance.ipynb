{
 "cells": [
  {
   "cell_type": "markdown",
   "metadata": {},
   "source": [
    "# Aggregation or Composition\n",
    "\n",
    "A \"has-a\" relationship in Python, also known as composition or aggregation, signifies that one class contains an object of another class as an attribute. This indicates that one class \"has\" an instance of another class within it."
   ]
  },
  {
   "cell_type": "code",
   "execution_count": 13,
   "metadata": {},
   "outputs": [
    {
     "name": "stdout",
     "output_type": "stream",
     "text": [
      "Bengaluru 560077 Karnataka\n",
      "Mysore 770055 Karnataka\n"
     ]
    }
   ],
   "source": [
    "class Customer:\n",
    "    def __init__(self, name, gender, address):\n",
    "        self.name = name\n",
    "        self.gender = gender\n",
    "        self.address = address\n",
    "\n",
    "    def print_address(self):\n",
    "        print(\n",
    "            self.address.get_city(),\n",
    "            self.address.get_pincode(),\n",
    "            self.address.get_state()\n",
    "        )\n",
    "\n",
    "    def edit_profile(self, name, city, pincode, state):\n",
    "        self.name = name\n",
    "        # call the Address.edit_address method with the right variables\n",
    "        self.address.edit_address(city, pincode, state)\n",
    "\n",
    "\n",
    "class Address:\n",
    "    def __init__(self, city, pincode, state):\n",
    "        self.__city = city\n",
    "        self.__pin = pincode\n",
    "        self.__state = state\n",
    "\n",
    "    def get_city(self):\n",
    "        return self.__city\n",
    "\n",
    "    def get_pincode(self):\n",
    "        return self.__pin\n",
    "\n",
    "    def get_state(self):\n",
    "        return self.__state\n",
    "\n",
    "    def edit_address(self, new_city, new_pincode, new_state):\n",
    "        self.__city = new_city\n",
    "        self.__pin = new_pincode\n",
    "        self.__state = new_state\n",
    "\n",
    "add = Address(\"Bengaluru\", 560077, \"Karnataka\")\n",
    "cust = Customer(\"Naveen\", \"Male\", add)\n",
    "\n",
    "cust.print_address()  \n",
    "\n",
    "cust.edit_profile(\"Tejan\", \"Mysore\", 770055, \"Karnataka\")\n",
    "cust.print_address()  \n"
   ]
  },
  {
   "cell_type": "markdown",
   "metadata": {},
   "source": [
    "# Inheritance\n",
    "\n",
    "Inheritance in python is a mechanism that allows a class (child or subclass) to derive attributes and methods from another class (parent or base class). This promotes code reusability."
   ]
  },
  {
   "cell_type": "code",
   "execution_count": 11,
   "metadata": {},
   "outputs": [
    {
     "name": "stdout",
     "output_type": "stream",
     "text": [
      "Naveen\n",
      "Naveen enrolled to class\n"
     ]
    }
   ],
   "source": [
    "class User:\n",
    "\n",
    "    def __init__(self):\n",
    "        self.name=\"Naveen\"\n",
    "\n",
    "    def login(self):\n",
    "        print(\"Login Successfull\")\n",
    "\n",
    "class Student(User):\n",
    "\n",
    "    def enroll(self):\n",
    "        print(f\"{self.name} enrolled to class\")\n",
    "\n",
    "\n",
    "s=Student()\n",
    "print(s.name)\n",
    "s.enroll()"
   ]
  },
  {
   "cell_type": "markdown",
   "metadata": {},
   "source": [
    "Accessing constructors"
   ]
  },
  {
   "cell_type": "code",
   "execution_count": 16,
   "metadata": {},
   "outputs": [
    {
     "name": "stdout",
     "output_type": "stream",
     "text": [
      "Running phone constructor\n",
      "Samsung\n",
      "1000\n",
      "Buying the phone\n"
     ]
    }
   ],
   "source": [
    "class Parent:\n",
    "\n",
    "    def __init__(self,price,brand):\n",
    "        print(\"Running phone constructor\")\n",
    "        self.price=price\n",
    "        self.brand=brand\n",
    "\n",
    "    def buy(self):\n",
    "        print(\"Buying the phone\")\n",
    "\n",
    "class SmarthPhone(Parent):\n",
    "    pass\n",
    "\n",
    "s=SmarthPhone(1000,\"Samsung\")\n",
    "print(s.brand)\n",
    "print(s.price)\n",
    "    \n",
    "s.buy()"
   ]
  },
  {
   "cell_type": "code",
   "execution_count": 19,
   "metadata": {},
   "outputs": [
    {
     "name": "stdout",
     "output_type": "stream",
     "text": [
      "Running Smartphone constructor\n"
     ]
    },
    {
     "data": {
      "text/plain": [
       "'Android'"
      ]
     },
     "execution_count": 19,
     "metadata": {},
     "output_type": "execute_result"
    }
   ],
   "source": [
    "class Parent:\n",
    "\n",
    "    def __init__(self,price,brand):\n",
    "        print(\"Running Phone Constructor\")\n",
    "        self.price=price\n",
    "        self.brand=brand\n",
    "\n",
    "    def buy(self):\n",
    "        print(\"Buy the phone\")\n",
    "\n",
    "class SmartPhone(Parent):\n",
    "\n",
    "    def __init__(self,os,ram):\n",
    "        self.os=os\n",
    "        self.ram=ram\n",
    "        print(\"Running Smartphone constructor\")\n",
    "\n",
    "\n",
    "s=SmartPhone(\"Android\",4)\n",
    "s.os"
   ]
  },
  {
   "cell_type": "code",
   "execution_count": 21,
   "metadata": {},
   "outputs": [
    {
     "name": "stdout",
     "output_type": "stream",
     "text": [
      "The price is 100\n",
      "This is in child class\n"
     ]
    }
   ],
   "source": [
    "class Parent:\n",
    "\n",
    "    def __init__(self,num):\n",
    "        self.__num=num\n",
    "\n",
    "    def show_price(self):\n",
    "        return f\"The price is {self.__num}\"\n",
    "    \n",
    "class Child(Parent):\n",
    "\n",
    "    def show(self):\n",
    "        print(\"This is in child class\")\n",
    "\n",
    "son=Child(100)\n",
    "print(son.show_price())\n",
    "\n",
    "son.show()"
   ]
  },
  {
   "cell_type": "markdown",
   "metadata": {},
   "source": [
    "# Method Overriding"
   ]
  },
  {
   "cell_type": "code",
   "execution_count": 25,
   "metadata": {},
   "outputs": [
    {
     "name": "stdout",
     "output_type": "stream",
     "text": [
      "Buy from child\n"
     ]
    }
   ],
   "source": [
    "class Parent:\n",
    "\n",
    "    def __init__(self,price,brand):\n",
    "        self.price=price\n",
    "        self.brand=brand\n",
    "\n",
    "    def buy(self):\n",
    "        print(\"Buy from parent\")\n",
    "\n",
    "class Child(Parent):\n",
    "\n",
    "    def buy(self):\n",
    "        print(\"Buy from child\")\n",
    "\n",
    "c=Child(10000,\"Samsung\")\n",
    "\n",
    "c.buy()\n"
   ]
  },
  {
   "cell_type": "code",
   "execution_count": null,
   "metadata": {},
   "outputs": [],
   "source": []
  }
 ],
 "metadata": {
  "kernelspec": {
   "display_name": "Python 3",
   "language": "python",
   "name": "python3"
  },
  "language_info": {
   "codemirror_mode": {
    "name": "ipython",
    "version": 3
   },
   "file_extension": ".py",
   "mimetype": "text/x-python",
   "name": "python",
   "nbconvert_exporter": "python",
   "pygments_lexer": "ipython3",
   "version": "3.13.3"
  }
 },
 "nbformat": 4,
 "nbformat_minor": 2
}
