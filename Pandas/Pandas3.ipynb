{
 "cells": [
  {
   "cell_type": "code",
   "execution_count": 3,
   "metadata": {},
   "outputs": [],
   "source": [
    "import pandas as pd"
   ]
  },
  {
   "cell_type": "markdown",
   "metadata": {},
   "source": [
    "# unique(series) \n",
    "\n",
    "displays the unique values in a series\n"
   ]
  },
  {
   "cell_type": "code",
   "execution_count": 4,
   "metadata": {},
   "outputs": [
    {
     "data": {
      "text/html": [
       "<div>\n",
       "<style scoped>\n",
       "    .dataframe tbody tr th:only-of-type {\n",
       "        vertical-align: middle;\n",
       "    }\n",
       "\n",
       "    .dataframe tbody tr th {\n",
       "        vertical-align: top;\n",
       "    }\n",
       "\n",
       "    .dataframe thead th {\n",
       "        text-align: right;\n",
       "    }\n",
       "</style>\n",
       "<table border=\"1\" class=\"dataframe\">\n",
       "  <thead>\n",
       "    <tr style=\"text-align: right;\">\n",
       "      <th></th>\n",
       "      <th>ID</th>\n",
       "      <th>City</th>\n",
       "      <th>Date</th>\n",
       "      <th>Season</th>\n",
       "      <th>MatchNumber</th>\n",
       "      <th>Team1</th>\n",
       "      <th>Team2</th>\n",
       "      <th>Venue</th>\n",
       "      <th>TossWinner</th>\n",
       "      <th>TossDecision</th>\n",
       "      <th>SuperOver</th>\n",
       "      <th>WinningTeam</th>\n",
       "      <th>WonBy</th>\n",
       "      <th>Margin</th>\n",
       "      <th>method</th>\n",
       "      <th>Player_of_Match</th>\n",
       "      <th>Team1Players</th>\n",
       "      <th>Team2Players</th>\n",
       "      <th>Umpire1</th>\n",
       "      <th>Umpire2</th>\n",
       "    </tr>\n",
       "  </thead>\n",
       "  <tbody>\n",
       "    <tr>\n",
       "      <th>0</th>\n",
       "      <td>1312200</td>\n",
       "      <td>Ahmedabad</td>\n",
       "      <td>2022-05-29</td>\n",
       "      <td>2022</td>\n",
       "      <td>Final</td>\n",
       "      <td>Rajasthan Royals</td>\n",
       "      <td>Gujarat Titans</td>\n",
       "      <td>Narendra Modi Stadium, Ahmedabad</td>\n",
       "      <td>Rajasthan Royals</td>\n",
       "      <td>bat</td>\n",
       "      <td>N</td>\n",
       "      <td>Gujarat Titans</td>\n",
       "      <td>Wickets</td>\n",
       "      <td>7.0</td>\n",
       "      <td>NaN</td>\n",
       "      <td>HH Pandya</td>\n",
       "      <td>['YBK Jaiswal', 'JC Buttler', 'SV Samson', 'D ...</td>\n",
       "      <td>['WP Saha', 'Shubman Gill', 'MS Wade', 'HH Pan...</td>\n",
       "      <td>CB Gaffaney</td>\n",
       "      <td>Nitin Menon</td>\n",
       "    </tr>\n",
       "    <tr>\n",
       "      <th>1</th>\n",
       "      <td>1312199</td>\n",
       "      <td>Ahmedabad</td>\n",
       "      <td>2022-05-27</td>\n",
       "      <td>2022</td>\n",
       "      <td>Qualifier 2</td>\n",
       "      <td>Royal Challengers Bangalore</td>\n",
       "      <td>Rajasthan Royals</td>\n",
       "      <td>Narendra Modi Stadium, Ahmedabad</td>\n",
       "      <td>Rajasthan Royals</td>\n",
       "      <td>field</td>\n",
       "      <td>N</td>\n",
       "      <td>Rajasthan Royals</td>\n",
       "      <td>Wickets</td>\n",
       "      <td>7.0</td>\n",
       "      <td>NaN</td>\n",
       "      <td>JC Buttler</td>\n",
       "      <td>['V Kohli', 'F du Plessis', 'RM Patidar', 'GJ ...</td>\n",
       "      <td>['YBK Jaiswal', 'JC Buttler', 'SV Samson', 'D ...</td>\n",
       "      <td>CB Gaffaney</td>\n",
       "      <td>Nitin Menon</td>\n",
       "    </tr>\n",
       "    <tr>\n",
       "      <th>2</th>\n",
       "      <td>1312198</td>\n",
       "      <td>Kolkata</td>\n",
       "      <td>2022-05-25</td>\n",
       "      <td>2022</td>\n",
       "      <td>Eliminator</td>\n",
       "      <td>Royal Challengers Bangalore</td>\n",
       "      <td>Lucknow Super Giants</td>\n",
       "      <td>Eden Gardens, Kolkata</td>\n",
       "      <td>Lucknow Super Giants</td>\n",
       "      <td>field</td>\n",
       "      <td>N</td>\n",
       "      <td>Royal Challengers Bangalore</td>\n",
       "      <td>Runs</td>\n",
       "      <td>14.0</td>\n",
       "      <td>NaN</td>\n",
       "      <td>RM Patidar</td>\n",
       "      <td>['V Kohli', 'F du Plessis', 'RM Patidar', 'GJ ...</td>\n",
       "      <td>['Q de Kock', 'KL Rahul', 'M Vohra', 'DJ Hooda...</td>\n",
       "      <td>J Madanagopal</td>\n",
       "      <td>MA Gough</td>\n",
       "    </tr>\n",
       "    <tr>\n",
       "      <th>3</th>\n",
       "      <td>1312197</td>\n",
       "      <td>Kolkata</td>\n",
       "      <td>2022-05-24</td>\n",
       "      <td>2022</td>\n",
       "      <td>Qualifier 1</td>\n",
       "      <td>Rajasthan Royals</td>\n",
       "      <td>Gujarat Titans</td>\n",
       "      <td>Eden Gardens, Kolkata</td>\n",
       "      <td>Gujarat Titans</td>\n",
       "      <td>field</td>\n",
       "      <td>N</td>\n",
       "      <td>Gujarat Titans</td>\n",
       "      <td>Wickets</td>\n",
       "      <td>7.0</td>\n",
       "      <td>NaN</td>\n",
       "      <td>DA Miller</td>\n",
       "      <td>['YBK Jaiswal', 'JC Buttler', 'SV Samson', 'D ...</td>\n",
       "      <td>['WP Saha', 'Shubman Gill', 'MS Wade', 'HH Pan...</td>\n",
       "      <td>BNJ Oxenford</td>\n",
       "      <td>VK Sharma</td>\n",
       "    </tr>\n",
       "    <tr>\n",
       "      <th>4</th>\n",
       "      <td>1304116</td>\n",
       "      <td>Mumbai</td>\n",
       "      <td>2022-05-22</td>\n",
       "      <td>2022</td>\n",
       "      <td>70</td>\n",
       "      <td>Sunrisers Hyderabad</td>\n",
       "      <td>Punjab Kings</td>\n",
       "      <td>Wankhede Stadium, Mumbai</td>\n",
       "      <td>Sunrisers Hyderabad</td>\n",
       "      <td>bat</td>\n",
       "      <td>N</td>\n",
       "      <td>Punjab Kings</td>\n",
       "      <td>Wickets</td>\n",
       "      <td>5.0</td>\n",
       "      <td>NaN</td>\n",
       "      <td>Harpreet Brar</td>\n",
       "      <td>['PK Garg', 'Abhishek Sharma', 'RA Tripathi', ...</td>\n",
       "      <td>['JM Bairstow', 'S Dhawan', 'M Shahrukh Khan',...</td>\n",
       "      <td>AK Chaudhary</td>\n",
       "      <td>NA Patwardhan</td>\n",
       "    </tr>\n",
       "  </tbody>\n",
       "</table>\n",
       "</div>"
      ],
      "text/plain": [
       "        ID       City        Date Season  MatchNumber  \\\n",
       "0  1312200  Ahmedabad  2022-05-29   2022        Final   \n",
       "1  1312199  Ahmedabad  2022-05-27   2022  Qualifier 2   \n",
       "2  1312198    Kolkata  2022-05-25   2022   Eliminator   \n",
       "3  1312197    Kolkata  2022-05-24   2022  Qualifier 1   \n",
       "4  1304116     Mumbai  2022-05-22   2022           70   \n",
       "\n",
       "                         Team1                 Team2  \\\n",
       "0             Rajasthan Royals        Gujarat Titans   \n",
       "1  Royal Challengers Bangalore      Rajasthan Royals   \n",
       "2  Royal Challengers Bangalore  Lucknow Super Giants   \n",
       "3             Rajasthan Royals        Gujarat Titans   \n",
       "4          Sunrisers Hyderabad          Punjab Kings   \n",
       "\n",
       "                              Venue            TossWinner TossDecision  \\\n",
       "0  Narendra Modi Stadium, Ahmedabad      Rajasthan Royals          bat   \n",
       "1  Narendra Modi Stadium, Ahmedabad      Rajasthan Royals        field   \n",
       "2             Eden Gardens, Kolkata  Lucknow Super Giants        field   \n",
       "3             Eden Gardens, Kolkata        Gujarat Titans        field   \n",
       "4          Wankhede Stadium, Mumbai   Sunrisers Hyderabad          bat   \n",
       "\n",
       "  SuperOver                  WinningTeam    WonBy  Margin method  \\\n",
       "0         N               Gujarat Titans  Wickets     7.0    NaN   \n",
       "1         N             Rajasthan Royals  Wickets     7.0    NaN   \n",
       "2         N  Royal Challengers Bangalore     Runs    14.0    NaN   \n",
       "3         N               Gujarat Titans  Wickets     7.0    NaN   \n",
       "4         N                 Punjab Kings  Wickets     5.0    NaN   \n",
       "\n",
       "  Player_of_Match                                       Team1Players  \\\n",
       "0       HH Pandya  ['YBK Jaiswal', 'JC Buttler', 'SV Samson', 'D ...   \n",
       "1      JC Buttler  ['V Kohli', 'F du Plessis', 'RM Patidar', 'GJ ...   \n",
       "2      RM Patidar  ['V Kohli', 'F du Plessis', 'RM Patidar', 'GJ ...   \n",
       "3       DA Miller  ['YBK Jaiswal', 'JC Buttler', 'SV Samson', 'D ...   \n",
       "4   Harpreet Brar  ['PK Garg', 'Abhishek Sharma', 'RA Tripathi', ...   \n",
       "\n",
       "                                        Team2Players        Umpire1  \\\n",
       "0  ['WP Saha', 'Shubman Gill', 'MS Wade', 'HH Pan...    CB Gaffaney   \n",
       "1  ['YBK Jaiswal', 'JC Buttler', 'SV Samson', 'D ...    CB Gaffaney   \n",
       "2  ['Q de Kock', 'KL Rahul', 'M Vohra', 'DJ Hooda...  J Madanagopal   \n",
       "3  ['WP Saha', 'Shubman Gill', 'MS Wade', 'HH Pan...   BNJ Oxenford   \n",
       "4  ['JM Bairstow', 'S Dhawan', 'M Shahrukh Khan',...   AK Chaudhary   \n",
       "\n",
       "         Umpire2  \n",
       "0    Nitin Menon  \n",
       "1    Nitin Menon  \n",
       "2       MA Gough  \n",
       "3      VK Sharma  \n",
       "4  NA Patwardhan  "
      ]
     },
     "execution_count": 4,
     "metadata": {},
     "output_type": "execute_result"
    }
   ],
   "source": [
    "d1=pd.read_csv(r'D:\\Github\\Python\\Datasets\\ipl-matches.csv')\n",
    "d1.head()\n"
   ]
  },
  {
   "cell_type": "code",
   "execution_count": 5,
   "metadata": {},
   "outputs": [
    {
     "data": {
      "text/plain": [
       "array(['Ahmedabad', 'Kolkata', 'Mumbai', 'Navi Mumbai', 'Pune', 'Dubai',\n",
       "       'Sharjah', 'Abu Dhabi', 'Delhi', 'Chennai', nan, 'Hyderabad',\n",
       "       'Visakhapatnam', 'Chandigarh', 'Bengaluru', 'Jaipur', 'Indore',\n",
       "       'Bangalore', 'Kanpur', 'Rajkot', 'Raipur', 'Ranchi', 'Cuttack',\n",
       "       'Dharamsala', 'Kochi', 'Nagpur', 'Johannesburg', 'Centurion',\n",
       "       'Durban', 'Bloemfontein', 'Port Elizabeth', 'Kimberley',\n",
       "       'East London', 'Cape Town'], dtype=object)"
      ]
     },
     "execution_count": 5,
     "metadata": {},
     "output_type": "execute_result"
    }
   ],
   "source": [
    "d1['City'].unique()"
   ]
  },
  {
   "cell_type": "code",
   "execution_count": 6,
   "metadata": {},
   "outputs": [
    {
     "data": {
      "text/plain": [
       "array(['2022', '2021', '2020/21', '2019', '2018', '2017', '2016', '2015',\n",
       "       '2014', '2013', '2012', '2011', '2009/10', '2009', '2007/08'],\n",
       "      dtype=object)"
      ]
     },
     "execution_count": 6,
     "metadata": {},
     "output_type": "execute_result"
    }
   ],
   "source": [
    "d1['Season'].unique()"
   ]
  },
  {
   "cell_type": "markdown",
   "metadata": {},
   "source": [
    "# nunique()\n",
    "\n",
    "counts the number of unique elements in column"
   ]
  },
  {
   "cell_type": "code",
   "execution_count": 7,
   "metadata": {},
   "outputs": [
    {
     "data": {
      "text/plain": [
       "33"
      ]
     },
     "execution_count": 7,
     "metadata": {},
     "output_type": "execute_result"
    }
   ],
   "source": [
    "d1['City'].nunique()"
   ]
  },
  {
   "cell_type": "code",
   "execution_count": 8,
   "metadata": {},
   "outputs": [
    {
     "data": {
      "text/plain": [
       "15"
      ]
     },
     "execution_count": 8,
     "metadata": {},
     "output_type": "execute_result"
    }
   ],
   "source": [
    "d1['Season'].nunique()"
   ]
  },
  {
   "cell_type": "markdown",
   "metadata": {},
   "source": [
    "# isnull()\n",
    "\n",
    "Detect missing values.\n",
    "Return a boolean same-sized object indicating if the values are NA."
   ]
  },
  {
   "cell_type": "code",
   "execution_count": 9,
   "metadata": {},
   "outputs": [
    {
     "data": {
      "text/plain": [
       "ID                   0\n",
       "City                51\n",
       "Date                 0\n",
       "Season               0\n",
       "MatchNumber          0\n",
       "Team1                0\n",
       "Team2                0\n",
       "Venue                0\n",
       "TossWinner           0\n",
       "TossDecision         0\n",
       "SuperOver            4\n",
       "WinningTeam          4\n",
       "WonBy                0\n",
       "Margin              18\n",
       "method             931\n",
       "Player_of_Match      4\n",
       "Team1Players         0\n",
       "Team2Players         0\n",
       "Umpire1              0\n",
       "Umpire2              0\n",
       "dtype: int64"
      ]
     },
     "execution_count": 9,
     "metadata": {},
     "output_type": "execute_result"
    }
   ],
   "source": [
    "d1.isnull().sum()"
   ]
  },
  {
   "cell_type": "markdown",
   "metadata": {},
   "source": [
    "# dropna\n",
    "\n",
    "remove missing values"
   ]
  },
  {
   "cell_type": "code",
   "execution_count": 10,
   "metadata": {},
   "outputs": [],
   "source": [
    "d1.dropna(subset=['City'],inplace=True)"
   ]
  },
  {
   "cell_type": "code",
   "execution_count": 11,
   "metadata": {},
   "outputs": [
    {
     "data": {
      "text/plain": [
       "(19, 20)"
      ]
     },
     "execution_count": 11,
     "metadata": {},
     "output_type": "execute_result"
    }
   ],
   "source": [
    "d2=d1.dropna()\n",
    "d2.shape"
   ]
  },
  {
   "cell_type": "code",
   "execution_count": 12,
   "metadata": {},
   "outputs": [
    {
     "data": {
      "text/plain": [
       "(899, 20)"
      ]
     },
     "execution_count": 12,
     "metadata": {},
     "output_type": "execute_result"
    }
   ],
   "source": [
    "# removes the row only if all the row elements are nan \n",
    "d1.dropna(how='all',inplace=True)\n",
    "d1.shape"
   ]
  },
  {
   "cell_type": "code",
   "execution_count": 13,
   "metadata": {},
   "outputs": [
    {
     "data": {
      "text/plain": [
       "(899, 15)"
      ]
     },
     "execution_count": 13,
     "metadata": {},
     "output_type": "execute_result"
    }
   ],
   "source": [
    "d1.dropna(axis=1,inplace=True)\n",
    "d1.shape"
   ]
  },
  {
   "cell_type": "code",
   "execution_count": 14,
   "metadata": {},
   "outputs": [
    {
     "data": {
      "text/plain": [
       "ID              0\n",
       "City            0\n",
       "Date            0\n",
       "Season          0\n",
       "MatchNumber     0\n",
       "Team1           0\n",
       "Team2           0\n",
       "Venue           0\n",
       "TossWinner      0\n",
       "TossDecision    0\n",
       "WonBy           0\n",
       "Team1Players    0\n",
       "Team2Players    0\n",
       "Umpire1         0\n",
       "Umpire2         0\n",
       "dtype: int64"
      ]
     },
     "execution_count": 14,
     "metadata": {},
     "output_type": "execute_result"
    }
   ],
   "source": [
    "d1.isnull().sum()"
   ]
  },
  {
   "cell_type": "markdown",
   "metadata": {},
   "source": [
    "# fillna()\n",
    "\n",
    "used to fill missing values"
   ]
  },
  {
   "cell_type": "code",
   "execution_count": 15,
   "metadata": {},
   "outputs": [],
   "source": [
    "d2=pd.read_csv(r'D:\\Github\\Python\\Datasets\\ipl-matches.csv')"
   ]
  },
  {
   "cell_type": "code",
   "execution_count": 16,
   "metadata": {},
   "outputs": [
    {
     "data": {
      "text/plain": [
       "ID                   0\n",
       "City                51\n",
       "Date                 0\n",
       "Season               0\n",
       "MatchNumber          0\n",
       "Team1                0\n",
       "Team2                0\n",
       "Venue                0\n",
       "TossWinner           0\n",
       "TossDecision         0\n",
       "SuperOver            4\n",
       "WinningTeam          4\n",
       "WonBy                0\n",
       "Margin              18\n",
       "method             931\n",
       "Player_of_Match      4\n",
       "Team1Players         0\n",
       "Team2Players         0\n",
       "Umpire1              0\n",
       "Umpire2              0\n",
       "dtype: int64"
      ]
     },
     "execution_count": 16,
     "metadata": {},
     "output_type": "execute_result"
    }
   ],
   "source": [
    "d2.isna().sum()"
   ]
  },
  {
   "cell_type": "code",
   "execution_count": 17,
   "metadata": {},
   "outputs": [
    {
     "name": "stdout",
     "output_type": "stream",
     "text": [
      "0    Mumbai\n",
      "Name: City, dtype: object\n"
     ]
    }
   ],
   "source": [
    "print(d2['City'].mode())\n",
    "d2['City'].fillna('Mumbai',inplace=True)"
   ]
  },
  {
   "cell_type": "code",
   "execution_count": 18,
   "metadata": {},
   "outputs": [
    {
     "data": {
      "text/plain": [
       "0"
      ]
     },
     "execution_count": 18,
     "metadata": {},
     "output_type": "execute_result"
    }
   ],
   "source": [
    "d2[\"City\"].isnull().sum()"
   ]
  },
  {
   "cell_type": "code",
   "execution_count": 19,
   "metadata": {},
   "outputs": [],
   "source": [
    "d2['SuperOver'].fillna(method='ffill',inplace=True)"
   ]
  },
  {
   "cell_type": "code",
   "execution_count": 20,
   "metadata": {},
   "outputs": [
    {
     "data": {
      "text/plain": [
       "0"
      ]
     },
     "execution_count": 20,
     "metadata": {},
     "output_type": "execute_result"
    }
   ],
   "source": [
    "d2['SuperOver'].isnull().sum()"
   ]
  },
  {
   "cell_type": "code",
   "execution_count": 21,
   "metadata": {},
   "outputs": [],
   "source": [
    "d2['WinningTeam'].fillna(method='bfill',inplace=True)"
   ]
  },
  {
   "cell_type": "markdown",
   "metadata": {},
   "source": [
    "# duplicated()\n",
    "\n",
    "Return boolean Series denoting duplicate rows."
   ]
  },
  {
   "cell_type": "code",
   "execution_count": 22,
   "metadata": {},
   "outputs": [],
   "source": [
    "d3=pd.read_csv(r\"D:\\Github\\Python\\Datasets\\fours-sixes.csv\")"
   ]
  },
  {
   "cell_type": "code",
   "execution_count": 23,
   "metadata": {},
   "outputs": [
    {
     "data": {
      "text/plain": [
       "0"
      ]
     },
     "execution_count": 23,
     "metadata": {},
     "output_type": "execute_result"
    }
   ],
   "source": [
    "d3.duplicated().sum()"
   ]
  },
  {
   "cell_type": "markdown",
   "metadata": {},
   "source": [
    "# drop_duplicates()\n",
    "\n",
    "Return DataFrame with duplicate rows removed."
   ]
  },
  {
   "cell_type": "code",
   "execution_count": 24,
   "metadata": {},
   "outputs": [
    {
     "data": {
      "text/html": [
       "<div>\n",
       "<style scoped>\n",
       "    .dataframe tbody tr th:only-of-type {\n",
       "        vertical-align: middle;\n",
       "    }\n",
       "\n",
       "    .dataframe tbody tr th {\n",
       "        vertical-align: top;\n",
       "    }\n",
       "\n",
       "    .dataframe thead th {\n",
       "        text-align: right;\n",
       "    }\n",
       "</style>\n",
       "<table border=\"1\" class=\"dataframe\">\n",
       "  <thead>\n",
       "    <tr style=\"text-align: right;\">\n",
       "      <th></th>\n",
       "      <th>ID</th>\n",
       "      <th>City</th>\n",
       "      <th>Date</th>\n",
       "      <th>Season</th>\n",
       "      <th>MatchNumber</th>\n",
       "      <th>Team1</th>\n",
       "      <th>Team2</th>\n",
       "      <th>Venue</th>\n",
       "      <th>TossWinner</th>\n",
       "      <th>TossDecision</th>\n",
       "      <th>SuperOver</th>\n",
       "      <th>WinningTeam</th>\n",
       "      <th>WonBy</th>\n",
       "      <th>Margin</th>\n",
       "      <th>method</th>\n",
       "      <th>Player_of_Match</th>\n",
       "      <th>Team1Players</th>\n",
       "      <th>Team2Players</th>\n",
       "      <th>Umpire1</th>\n",
       "      <th>Umpire2</th>\n",
       "    </tr>\n",
       "  </thead>\n",
       "  <tbody>\n",
       "    <tr>\n",
       "      <th>0</th>\n",
       "      <td>1312200</td>\n",
       "      <td>Ahmedabad</td>\n",
       "      <td>2022-05-29</td>\n",
       "      <td>2022</td>\n",
       "      <td>Final</td>\n",
       "      <td>Rajasthan Royals</td>\n",
       "      <td>Gujarat Titans</td>\n",
       "      <td>Narendra Modi Stadium, Ahmedabad</td>\n",
       "      <td>Rajasthan Royals</td>\n",
       "      <td>bat</td>\n",
       "      <td>N</td>\n",
       "      <td>Gujarat Titans</td>\n",
       "      <td>Wickets</td>\n",
       "      <td>7.0</td>\n",
       "      <td>NaN</td>\n",
       "      <td>HH Pandya</td>\n",
       "      <td>['YBK Jaiswal', 'JC Buttler', 'SV Samson', 'D ...</td>\n",
       "      <td>['WP Saha', 'Shubman Gill', 'MS Wade', 'HH Pan...</td>\n",
       "      <td>CB Gaffaney</td>\n",
       "      <td>Nitin Menon</td>\n",
       "    </tr>\n",
       "    <tr>\n",
       "      <th>1</th>\n",
       "      <td>1312199</td>\n",
       "      <td>Ahmedabad</td>\n",
       "      <td>2022-05-27</td>\n",
       "      <td>2022</td>\n",
       "      <td>Qualifier 2</td>\n",
       "      <td>Royal Challengers Bangalore</td>\n",
       "      <td>Rajasthan Royals</td>\n",
       "      <td>Narendra Modi Stadium, Ahmedabad</td>\n",
       "      <td>Rajasthan Royals</td>\n",
       "      <td>field</td>\n",
       "      <td>N</td>\n",
       "      <td>Rajasthan Royals</td>\n",
       "      <td>Wickets</td>\n",
       "      <td>7.0</td>\n",
       "      <td>NaN</td>\n",
       "      <td>JC Buttler</td>\n",
       "      <td>['V Kohli', 'F du Plessis', 'RM Patidar', 'GJ ...</td>\n",
       "      <td>['YBK Jaiswal', 'JC Buttler', 'SV Samson', 'D ...</td>\n",
       "      <td>CB Gaffaney</td>\n",
       "      <td>Nitin Menon</td>\n",
       "    </tr>\n",
       "    <tr>\n",
       "      <th>2</th>\n",
       "      <td>1312198</td>\n",
       "      <td>Kolkata</td>\n",
       "      <td>2022-05-25</td>\n",
       "      <td>2022</td>\n",
       "      <td>Eliminator</td>\n",
       "      <td>Royal Challengers Bangalore</td>\n",
       "      <td>Lucknow Super Giants</td>\n",
       "      <td>Eden Gardens, Kolkata</td>\n",
       "      <td>Lucknow Super Giants</td>\n",
       "      <td>field</td>\n",
       "      <td>N</td>\n",
       "      <td>Royal Challengers Bangalore</td>\n",
       "      <td>Runs</td>\n",
       "      <td>14.0</td>\n",
       "      <td>NaN</td>\n",
       "      <td>RM Patidar</td>\n",
       "      <td>['V Kohli', 'F du Plessis', 'RM Patidar', 'GJ ...</td>\n",
       "      <td>['Q de Kock', 'KL Rahul', 'M Vohra', 'DJ Hooda...</td>\n",
       "      <td>J Madanagopal</td>\n",
       "      <td>MA Gough</td>\n",
       "    </tr>\n",
       "    <tr>\n",
       "      <th>3</th>\n",
       "      <td>1312197</td>\n",
       "      <td>Kolkata</td>\n",
       "      <td>2022-05-24</td>\n",
       "      <td>2022</td>\n",
       "      <td>Qualifier 1</td>\n",
       "      <td>Rajasthan Royals</td>\n",
       "      <td>Gujarat Titans</td>\n",
       "      <td>Eden Gardens, Kolkata</td>\n",
       "      <td>Gujarat Titans</td>\n",
       "      <td>field</td>\n",
       "      <td>N</td>\n",
       "      <td>Gujarat Titans</td>\n",
       "      <td>Wickets</td>\n",
       "      <td>7.0</td>\n",
       "      <td>NaN</td>\n",
       "      <td>DA Miller</td>\n",
       "      <td>['YBK Jaiswal', 'JC Buttler', 'SV Samson', 'D ...</td>\n",
       "      <td>['WP Saha', 'Shubman Gill', 'MS Wade', 'HH Pan...</td>\n",
       "      <td>BNJ Oxenford</td>\n",
       "      <td>VK Sharma</td>\n",
       "    </tr>\n",
       "    <tr>\n",
       "      <th>4</th>\n",
       "      <td>1304116</td>\n",
       "      <td>Mumbai</td>\n",
       "      <td>2022-05-22</td>\n",
       "      <td>2022</td>\n",
       "      <td>70</td>\n",
       "      <td>Sunrisers Hyderabad</td>\n",
       "      <td>Punjab Kings</td>\n",
       "      <td>Wankhede Stadium, Mumbai</td>\n",
       "      <td>Sunrisers Hyderabad</td>\n",
       "      <td>bat</td>\n",
       "      <td>N</td>\n",
       "      <td>Punjab Kings</td>\n",
       "      <td>Wickets</td>\n",
       "      <td>5.0</td>\n",
       "      <td>NaN</td>\n",
       "      <td>Harpreet Brar</td>\n",
       "      <td>['PK Garg', 'Abhishek Sharma', 'RA Tripathi', ...</td>\n",
       "      <td>['JM Bairstow', 'S Dhawan', 'M Shahrukh Khan',...</td>\n",
       "      <td>AK Chaudhary</td>\n",
       "      <td>NA Patwardhan</td>\n",
       "    </tr>\n",
       "    <tr>\n",
       "      <th>...</th>\n",
       "      <td>...</td>\n",
       "      <td>...</td>\n",
       "      <td>...</td>\n",
       "      <td>...</td>\n",
       "      <td>...</td>\n",
       "      <td>...</td>\n",
       "      <td>...</td>\n",
       "      <td>...</td>\n",
       "      <td>...</td>\n",
       "      <td>...</td>\n",
       "      <td>...</td>\n",
       "      <td>...</td>\n",
       "      <td>...</td>\n",
       "      <td>...</td>\n",
       "      <td>...</td>\n",
       "      <td>...</td>\n",
       "      <td>...</td>\n",
       "      <td>...</td>\n",
       "      <td>...</td>\n",
       "      <td>...</td>\n",
       "    </tr>\n",
       "    <tr>\n",
       "      <th>945</th>\n",
       "      <td>335986</td>\n",
       "      <td>Kolkata</td>\n",
       "      <td>2008-04-20</td>\n",
       "      <td>2007/08</td>\n",
       "      <td>4</td>\n",
       "      <td>Kolkata Knight Riders</td>\n",
       "      <td>Deccan Chargers</td>\n",
       "      <td>Eden Gardens</td>\n",
       "      <td>Deccan Chargers</td>\n",
       "      <td>bat</td>\n",
       "      <td>N</td>\n",
       "      <td>Kolkata Knight Riders</td>\n",
       "      <td>Wickets</td>\n",
       "      <td>5.0</td>\n",
       "      <td>NaN</td>\n",
       "      <td>DJ Hussey</td>\n",
       "      <td>['WP Saha', 'BB McCullum', 'RT Ponting', 'SC G...</td>\n",
       "      <td>['AC Gilchrist', 'Y Venugopal Rao', 'VVS Laxma...</td>\n",
       "      <td>BF Bowden</td>\n",
       "      <td>K Hariharan</td>\n",
       "    </tr>\n",
       "    <tr>\n",
       "      <th>946</th>\n",
       "      <td>335985</td>\n",
       "      <td>Mumbai</td>\n",
       "      <td>2008-04-20</td>\n",
       "      <td>2007/08</td>\n",
       "      <td>5</td>\n",
       "      <td>Mumbai Indians</td>\n",
       "      <td>Royal Challengers Bangalore</td>\n",
       "      <td>Wankhede Stadium</td>\n",
       "      <td>Mumbai Indians</td>\n",
       "      <td>bat</td>\n",
       "      <td>N</td>\n",
       "      <td>Royal Challengers Bangalore</td>\n",
       "      <td>Wickets</td>\n",
       "      <td>5.0</td>\n",
       "      <td>NaN</td>\n",
       "      <td>MV Boucher</td>\n",
       "      <td>['L Ronchi', 'ST Jayasuriya', 'DJ Thornely', '...</td>\n",
       "      <td>['S Chanderpaul', 'R Dravid', 'LRPL Taylor', '...</td>\n",
       "      <td>SJ Davis</td>\n",
       "      <td>DJ Harper</td>\n",
       "    </tr>\n",
       "    <tr>\n",
       "      <th>947</th>\n",
       "      <td>335984</td>\n",
       "      <td>Delhi</td>\n",
       "      <td>2008-04-19</td>\n",
       "      <td>2007/08</td>\n",
       "      <td>3</td>\n",
       "      <td>Delhi Daredevils</td>\n",
       "      <td>Rajasthan Royals</td>\n",
       "      <td>Feroz Shah Kotla</td>\n",
       "      <td>Rajasthan Royals</td>\n",
       "      <td>bat</td>\n",
       "      <td>N</td>\n",
       "      <td>Delhi Daredevils</td>\n",
       "      <td>Wickets</td>\n",
       "      <td>9.0</td>\n",
       "      <td>NaN</td>\n",
       "      <td>MF Maharoof</td>\n",
       "      <td>['G Gambhir', 'V Sehwag', 'S Dhawan', 'MK Tiwa...</td>\n",
       "      <td>['T Kohli', 'YK Pathan', 'SR Watson', 'M Kaif'...</td>\n",
       "      <td>Aleem Dar</td>\n",
       "      <td>GA Pratapkumar</td>\n",
       "    </tr>\n",
       "    <tr>\n",
       "      <th>948</th>\n",
       "      <td>335983</td>\n",
       "      <td>Chandigarh</td>\n",
       "      <td>2008-04-19</td>\n",
       "      <td>2007/08</td>\n",
       "      <td>2</td>\n",
       "      <td>Kings XI Punjab</td>\n",
       "      <td>Chennai Super Kings</td>\n",
       "      <td>Punjab Cricket Association Stadium, Mohali</td>\n",
       "      <td>Chennai Super Kings</td>\n",
       "      <td>bat</td>\n",
       "      <td>N</td>\n",
       "      <td>Chennai Super Kings</td>\n",
       "      <td>Runs</td>\n",
       "      <td>33.0</td>\n",
       "      <td>NaN</td>\n",
       "      <td>MEK Hussey</td>\n",
       "      <td>['K Goel', 'JR Hopes', 'KC Sangakkara', 'Yuvra...</td>\n",
       "      <td>['PA Patel', 'ML Hayden', 'MEK Hussey', 'MS Dh...</td>\n",
       "      <td>MR Benson</td>\n",
       "      <td>SL Shastri</td>\n",
       "    </tr>\n",
       "    <tr>\n",
       "      <th>949</th>\n",
       "      <td>335982</td>\n",
       "      <td>Bangalore</td>\n",
       "      <td>2008-04-18</td>\n",
       "      <td>2007/08</td>\n",
       "      <td>1</td>\n",
       "      <td>Royal Challengers Bangalore</td>\n",
       "      <td>Kolkata Knight Riders</td>\n",
       "      <td>M Chinnaswamy Stadium</td>\n",
       "      <td>Royal Challengers Bangalore</td>\n",
       "      <td>field</td>\n",
       "      <td>N</td>\n",
       "      <td>Kolkata Knight Riders</td>\n",
       "      <td>Runs</td>\n",
       "      <td>140.0</td>\n",
       "      <td>NaN</td>\n",
       "      <td>BB McCullum</td>\n",
       "      <td>['R Dravid', 'W Jaffer', 'V Kohli', 'JH Kallis...</td>\n",
       "      <td>['SC Ganguly', 'BB McCullum', 'RT Ponting', 'D...</td>\n",
       "      <td>Asad Rauf</td>\n",
       "      <td>RE Koertzen</td>\n",
       "    </tr>\n",
       "  </tbody>\n",
       "</table>\n",
       "<p>950 rows × 20 columns</p>\n",
       "</div>"
      ],
      "text/plain": [
       "          ID        City        Date   Season  MatchNumber  \\\n",
       "0    1312200   Ahmedabad  2022-05-29     2022        Final   \n",
       "1    1312199   Ahmedabad  2022-05-27     2022  Qualifier 2   \n",
       "2    1312198     Kolkata  2022-05-25     2022   Eliminator   \n",
       "3    1312197     Kolkata  2022-05-24     2022  Qualifier 1   \n",
       "4    1304116      Mumbai  2022-05-22     2022           70   \n",
       "..       ...         ...         ...      ...          ...   \n",
       "945   335986     Kolkata  2008-04-20  2007/08            4   \n",
       "946   335985      Mumbai  2008-04-20  2007/08            5   \n",
       "947   335984       Delhi  2008-04-19  2007/08            3   \n",
       "948   335983  Chandigarh  2008-04-19  2007/08            2   \n",
       "949   335982   Bangalore  2008-04-18  2007/08            1   \n",
       "\n",
       "                           Team1                        Team2  \\\n",
       "0               Rajasthan Royals               Gujarat Titans   \n",
       "1    Royal Challengers Bangalore             Rajasthan Royals   \n",
       "2    Royal Challengers Bangalore         Lucknow Super Giants   \n",
       "3               Rajasthan Royals               Gujarat Titans   \n",
       "4            Sunrisers Hyderabad                 Punjab Kings   \n",
       "..                           ...                          ...   \n",
       "945        Kolkata Knight Riders              Deccan Chargers   \n",
       "946               Mumbai Indians  Royal Challengers Bangalore   \n",
       "947             Delhi Daredevils             Rajasthan Royals   \n",
       "948              Kings XI Punjab          Chennai Super Kings   \n",
       "949  Royal Challengers Bangalore        Kolkata Knight Riders   \n",
       "\n",
       "                                          Venue                   TossWinner  \\\n",
       "0              Narendra Modi Stadium, Ahmedabad             Rajasthan Royals   \n",
       "1              Narendra Modi Stadium, Ahmedabad             Rajasthan Royals   \n",
       "2                         Eden Gardens, Kolkata         Lucknow Super Giants   \n",
       "3                         Eden Gardens, Kolkata               Gujarat Titans   \n",
       "4                      Wankhede Stadium, Mumbai          Sunrisers Hyderabad   \n",
       "..                                          ...                          ...   \n",
       "945                                Eden Gardens              Deccan Chargers   \n",
       "946                            Wankhede Stadium               Mumbai Indians   \n",
       "947                            Feroz Shah Kotla             Rajasthan Royals   \n",
       "948  Punjab Cricket Association Stadium, Mohali          Chennai Super Kings   \n",
       "949                       M Chinnaswamy Stadium  Royal Challengers Bangalore   \n",
       "\n",
       "    TossDecision SuperOver                  WinningTeam    WonBy  Margin  \\\n",
       "0            bat         N               Gujarat Titans  Wickets     7.0   \n",
       "1          field         N             Rajasthan Royals  Wickets     7.0   \n",
       "2          field         N  Royal Challengers Bangalore     Runs    14.0   \n",
       "3          field         N               Gujarat Titans  Wickets     7.0   \n",
       "4            bat         N                 Punjab Kings  Wickets     5.0   \n",
       "..           ...       ...                          ...      ...     ...   \n",
       "945          bat         N        Kolkata Knight Riders  Wickets     5.0   \n",
       "946          bat         N  Royal Challengers Bangalore  Wickets     5.0   \n",
       "947          bat         N             Delhi Daredevils  Wickets     9.0   \n",
       "948          bat         N          Chennai Super Kings     Runs    33.0   \n",
       "949        field         N        Kolkata Knight Riders     Runs   140.0   \n",
       "\n",
       "    method Player_of_Match                                       Team1Players  \\\n",
       "0      NaN       HH Pandya  ['YBK Jaiswal', 'JC Buttler', 'SV Samson', 'D ...   \n",
       "1      NaN      JC Buttler  ['V Kohli', 'F du Plessis', 'RM Patidar', 'GJ ...   \n",
       "2      NaN      RM Patidar  ['V Kohli', 'F du Plessis', 'RM Patidar', 'GJ ...   \n",
       "3      NaN       DA Miller  ['YBK Jaiswal', 'JC Buttler', 'SV Samson', 'D ...   \n",
       "4      NaN   Harpreet Brar  ['PK Garg', 'Abhishek Sharma', 'RA Tripathi', ...   \n",
       "..     ...             ...                                                ...   \n",
       "945    NaN       DJ Hussey  ['WP Saha', 'BB McCullum', 'RT Ponting', 'SC G...   \n",
       "946    NaN      MV Boucher  ['L Ronchi', 'ST Jayasuriya', 'DJ Thornely', '...   \n",
       "947    NaN     MF Maharoof  ['G Gambhir', 'V Sehwag', 'S Dhawan', 'MK Tiwa...   \n",
       "948    NaN      MEK Hussey  ['K Goel', 'JR Hopes', 'KC Sangakkara', 'Yuvra...   \n",
       "949    NaN     BB McCullum  ['R Dravid', 'W Jaffer', 'V Kohli', 'JH Kallis...   \n",
       "\n",
       "                                          Team2Players        Umpire1  \\\n",
       "0    ['WP Saha', 'Shubman Gill', 'MS Wade', 'HH Pan...    CB Gaffaney   \n",
       "1    ['YBK Jaiswal', 'JC Buttler', 'SV Samson', 'D ...    CB Gaffaney   \n",
       "2    ['Q de Kock', 'KL Rahul', 'M Vohra', 'DJ Hooda...  J Madanagopal   \n",
       "3    ['WP Saha', 'Shubman Gill', 'MS Wade', 'HH Pan...   BNJ Oxenford   \n",
       "4    ['JM Bairstow', 'S Dhawan', 'M Shahrukh Khan',...   AK Chaudhary   \n",
       "..                                                 ...            ...   \n",
       "945  ['AC Gilchrist', 'Y Venugopal Rao', 'VVS Laxma...      BF Bowden   \n",
       "946  ['S Chanderpaul', 'R Dravid', 'LRPL Taylor', '...       SJ Davis   \n",
       "947  ['T Kohli', 'YK Pathan', 'SR Watson', 'M Kaif'...      Aleem Dar   \n",
       "948  ['PA Patel', 'ML Hayden', 'MEK Hussey', 'MS Dh...      MR Benson   \n",
       "949  ['SC Ganguly', 'BB McCullum', 'RT Ponting', 'D...      Asad Rauf   \n",
       "\n",
       "            Umpire2  \n",
       "0       Nitin Menon  \n",
       "1       Nitin Menon  \n",
       "2          MA Gough  \n",
       "3         VK Sharma  \n",
       "4     NA Patwardhan  \n",
       "..              ...  \n",
       "945     K Hariharan  \n",
       "946       DJ Harper  \n",
       "947  GA Pratapkumar  \n",
       "948      SL Shastri  \n",
       "949     RE Koertzen  \n",
       "\n",
       "[950 rows x 20 columns]"
      ]
     },
     "execution_count": 24,
     "metadata": {},
     "output_type": "execute_result"
    }
   ],
   "source": [
    "d2.drop_duplicates()"
   ]
  },
  {
   "cell_type": "markdown",
   "metadata": {},
   "source": [
    "# drop\n"
   ]
  },
  {
   "cell_type": "code",
   "execution_count": 25,
   "metadata": {},
   "outputs": [],
   "source": [
    "d1.drop(columns=['Team1Players','Team2Players'],inplace=True)"
   ]
  },
  {
   "cell_type": "code",
   "execution_count": 26,
   "metadata": {},
   "outputs": [
    {
     "data": {
      "text/html": [
       "<div>\n",
       "<style scoped>\n",
       "    .dataframe tbody tr th:only-of-type {\n",
       "        vertical-align: middle;\n",
       "    }\n",
       "\n",
       "    .dataframe tbody tr th {\n",
       "        vertical-align: top;\n",
       "    }\n",
       "\n",
       "    .dataframe thead th {\n",
       "        text-align: right;\n",
       "    }\n",
       "</style>\n",
       "<table border=\"1\" class=\"dataframe\">\n",
       "  <thead>\n",
       "    <tr style=\"text-align: right;\">\n",
       "      <th></th>\n",
       "      <th>ID</th>\n",
       "      <th>City</th>\n",
       "      <th>Date</th>\n",
       "      <th>Season</th>\n",
       "      <th>MatchNumber</th>\n",
       "      <th>Team1</th>\n",
       "      <th>Team2</th>\n",
       "      <th>Venue</th>\n",
       "      <th>TossWinner</th>\n",
       "      <th>TossDecision</th>\n",
       "      <th>WonBy</th>\n",
       "      <th>Umpire1</th>\n",
       "      <th>Umpire2</th>\n",
       "    </tr>\n",
       "  </thead>\n",
       "  <tbody>\n",
       "    <tr>\n",
       "      <th>0</th>\n",
       "      <td>1312200</td>\n",
       "      <td>Ahmedabad</td>\n",
       "      <td>2022-05-29</td>\n",
       "      <td>2022</td>\n",
       "      <td>Final</td>\n",
       "      <td>Rajasthan Royals</td>\n",
       "      <td>Gujarat Titans</td>\n",
       "      <td>Narendra Modi Stadium, Ahmedabad</td>\n",
       "      <td>Rajasthan Royals</td>\n",
       "      <td>bat</td>\n",
       "      <td>Wickets</td>\n",
       "      <td>CB Gaffaney</td>\n",
       "      <td>Nitin Menon</td>\n",
       "    </tr>\n",
       "    <tr>\n",
       "      <th>1</th>\n",
       "      <td>1312199</td>\n",
       "      <td>Ahmedabad</td>\n",
       "      <td>2022-05-27</td>\n",
       "      <td>2022</td>\n",
       "      <td>Qualifier 2</td>\n",
       "      <td>Royal Challengers Bangalore</td>\n",
       "      <td>Rajasthan Royals</td>\n",
       "      <td>Narendra Modi Stadium, Ahmedabad</td>\n",
       "      <td>Rajasthan Royals</td>\n",
       "      <td>field</td>\n",
       "      <td>Wickets</td>\n",
       "      <td>CB Gaffaney</td>\n",
       "      <td>Nitin Menon</td>\n",
       "    </tr>\n",
       "    <tr>\n",
       "      <th>2</th>\n",
       "      <td>1312198</td>\n",
       "      <td>Kolkata</td>\n",
       "      <td>2022-05-25</td>\n",
       "      <td>2022</td>\n",
       "      <td>Eliminator</td>\n",
       "      <td>Royal Challengers Bangalore</td>\n",
       "      <td>Lucknow Super Giants</td>\n",
       "      <td>Eden Gardens, Kolkata</td>\n",
       "      <td>Lucknow Super Giants</td>\n",
       "      <td>field</td>\n",
       "      <td>Runs</td>\n",
       "      <td>J Madanagopal</td>\n",
       "      <td>MA Gough</td>\n",
       "    </tr>\n",
       "    <tr>\n",
       "      <th>3</th>\n",
       "      <td>1312197</td>\n",
       "      <td>Kolkata</td>\n",
       "      <td>2022-05-24</td>\n",
       "      <td>2022</td>\n",
       "      <td>Qualifier 1</td>\n",
       "      <td>Rajasthan Royals</td>\n",
       "      <td>Gujarat Titans</td>\n",
       "      <td>Eden Gardens, Kolkata</td>\n",
       "      <td>Gujarat Titans</td>\n",
       "      <td>field</td>\n",
       "      <td>Wickets</td>\n",
       "      <td>BNJ Oxenford</td>\n",
       "      <td>VK Sharma</td>\n",
       "    </tr>\n",
       "    <tr>\n",
       "      <th>4</th>\n",
       "      <td>1304116</td>\n",
       "      <td>Mumbai</td>\n",
       "      <td>2022-05-22</td>\n",
       "      <td>2022</td>\n",
       "      <td>70</td>\n",
       "      <td>Sunrisers Hyderabad</td>\n",
       "      <td>Punjab Kings</td>\n",
       "      <td>Wankhede Stadium, Mumbai</td>\n",
       "      <td>Sunrisers Hyderabad</td>\n",
       "      <td>bat</td>\n",
       "      <td>Wickets</td>\n",
       "      <td>AK Chaudhary</td>\n",
       "      <td>NA Patwardhan</td>\n",
       "    </tr>\n",
       "  </tbody>\n",
       "</table>\n",
       "</div>"
      ],
      "text/plain": [
       "        ID       City        Date Season  MatchNumber  \\\n",
       "0  1312200  Ahmedabad  2022-05-29   2022        Final   \n",
       "1  1312199  Ahmedabad  2022-05-27   2022  Qualifier 2   \n",
       "2  1312198    Kolkata  2022-05-25   2022   Eliminator   \n",
       "3  1312197    Kolkata  2022-05-24   2022  Qualifier 1   \n",
       "4  1304116     Mumbai  2022-05-22   2022           70   \n",
       "\n",
       "                         Team1                 Team2  \\\n",
       "0             Rajasthan Royals        Gujarat Titans   \n",
       "1  Royal Challengers Bangalore      Rajasthan Royals   \n",
       "2  Royal Challengers Bangalore  Lucknow Super Giants   \n",
       "3             Rajasthan Royals        Gujarat Titans   \n",
       "4          Sunrisers Hyderabad          Punjab Kings   \n",
       "\n",
       "                              Venue            TossWinner TossDecision  \\\n",
       "0  Narendra Modi Stadium, Ahmedabad      Rajasthan Royals          bat   \n",
       "1  Narendra Modi Stadium, Ahmedabad      Rajasthan Royals        field   \n",
       "2             Eden Gardens, Kolkata  Lucknow Super Giants        field   \n",
       "3             Eden Gardens, Kolkata        Gujarat Titans        field   \n",
       "4          Wankhede Stadium, Mumbai   Sunrisers Hyderabad          bat   \n",
       "\n",
       "     WonBy        Umpire1        Umpire2  \n",
       "0  Wickets    CB Gaffaney    Nitin Menon  \n",
       "1  Wickets    CB Gaffaney    Nitin Menon  \n",
       "2     Runs  J Madanagopal       MA Gough  \n",
       "3  Wickets   BNJ Oxenford      VK Sharma  \n",
       "4  Wickets   AK Chaudhary  NA Patwardhan  "
      ]
     },
     "execution_count": 26,
     "metadata": {},
     "output_type": "execute_result"
    }
   ],
   "source": [
    "d1.head()"
   ]
  },
  {
   "cell_type": "code",
   "execution_count": 30,
   "metadata": {},
   "outputs": [
    {
     "data": {
      "text/html": [
       "<div>\n",
       "<style scoped>\n",
       "    .dataframe tbody tr th:only-of-type {\n",
       "        vertical-align: middle;\n",
       "    }\n",
       "\n",
       "    .dataframe tbody tr th {\n",
       "        vertical-align: top;\n",
       "    }\n",
       "\n",
       "    .dataframe thead th {\n",
       "        text-align: right;\n",
       "    }\n",
       "</style>\n",
       "<table border=\"1\" class=\"dataframe\">\n",
       "  <thead>\n",
       "    <tr style=\"text-align: right;\">\n",
       "      <th></th>\n",
       "      <th>ID</th>\n",
       "      <th>City</th>\n",
       "      <th>Date</th>\n",
       "      <th>Season</th>\n",
       "      <th>MatchNumber</th>\n",
       "      <th>Team1</th>\n",
       "      <th>Team2</th>\n",
       "      <th>Venue</th>\n",
       "      <th>TossWinner</th>\n",
       "      <th>TossDecision</th>\n",
       "      <th>WonBy</th>\n",
       "      <th>Umpire1</th>\n",
       "      <th>Umpire2</th>\n",
       "    </tr>\n",
       "  </thead>\n",
       "  <tbody>\n",
       "    <tr>\n",
       "      <th>1</th>\n",
       "      <td>1312199</td>\n",
       "      <td>Ahmedabad</td>\n",
       "      <td>2022-05-27</td>\n",
       "      <td>2022</td>\n",
       "      <td>Qualifier 2</td>\n",
       "      <td>Royal Challengers Bangalore</td>\n",
       "      <td>Rajasthan Royals</td>\n",
       "      <td>Narendra Modi Stadium, Ahmedabad</td>\n",
       "      <td>Rajasthan Royals</td>\n",
       "      <td>field</td>\n",
       "      <td>Wickets</td>\n",
       "      <td>CB Gaffaney</td>\n",
       "      <td>Nitin Menon</td>\n",
       "    </tr>\n",
       "    <tr>\n",
       "      <th>2</th>\n",
       "      <td>1312198</td>\n",
       "      <td>Kolkata</td>\n",
       "      <td>2022-05-25</td>\n",
       "      <td>2022</td>\n",
       "      <td>Eliminator</td>\n",
       "      <td>Royal Challengers Bangalore</td>\n",
       "      <td>Lucknow Super Giants</td>\n",
       "      <td>Eden Gardens, Kolkata</td>\n",
       "      <td>Lucknow Super Giants</td>\n",
       "      <td>field</td>\n",
       "      <td>Runs</td>\n",
       "      <td>J Madanagopal</td>\n",
       "      <td>MA Gough</td>\n",
       "    </tr>\n",
       "    <tr>\n",
       "      <th>3</th>\n",
       "      <td>1312197</td>\n",
       "      <td>Kolkata</td>\n",
       "      <td>2022-05-24</td>\n",
       "      <td>2022</td>\n",
       "      <td>Qualifier 1</td>\n",
       "      <td>Rajasthan Royals</td>\n",
       "      <td>Gujarat Titans</td>\n",
       "      <td>Eden Gardens, Kolkata</td>\n",
       "      <td>Gujarat Titans</td>\n",
       "      <td>field</td>\n",
       "      <td>Wickets</td>\n",
       "      <td>BNJ Oxenford</td>\n",
       "      <td>VK Sharma</td>\n",
       "    </tr>\n",
       "    <tr>\n",
       "      <th>4</th>\n",
       "      <td>1304116</td>\n",
       "      <td>Mumbai</td>\n",
       "      <td>2022-05-22</td>\n",
       "      <td>2022</td>\n",
       "      <td>70</td>\n",
       "      <td>Sunrisers Hyderabad</td>\n",
       "      <td>Punjab Kings</td>\n",
       "      <td>Wankhede Stadium, Mumbai</td>\n",
       "      <td>Sunrisers Hyderabad</td>\n",
       "      <td>bat</td>\n",
       "      <td>Wickets</td>\n",
       "      <td>AK Chaudhary</td>\n",
       "      <td>NA Patwardhan</td>\n",
       "    </tr>\n",
       "    <tr>\n",
       "      <th>5</th>\n",
       "      <td>1304115</td>\n",
       "      <td>Mumbai</td>\n",
       "      <td>2022-05-21</td>\n",
       "      <td>2022</td>\n",
       "      <td>69</td>\n",
       "      <td>Delhi Capitals</td>\n",
       "      <td>Mumbai Indians</td>\n",
       "      <td>Wankhede Stadium, Mumbai</td>\n",
       "      <td>Mumbai Indians</td>\n",
       "      <td>field</td>\n",
       "      <td>Wickets</td>\n",
       "      <td>Nitin Menon</td>\n",
       "      <td>Tapan Sharma</td>\n",
       "    </tr>\n",
       "  </tbody>\n",
       "</table>\n",
       "</div>"
      ],
      "text/plain": [
       "        ID       City        Date Season  MatchNumber  \\\n",
       "1  1312199  Ahmedabad  2022-05-27   2022  Qualifier 2   \n",
       "2  1312198    Kolkata  2022-05-25   2022   Eliminator   \n",
       "3  1312197    Kolkata  2022-05-24   2022  Qualifier 1   \n",
       "4  1304116     Mumbai  2022-05-22   2022           70   \n",
       "5  1304115     Mumbai  2022-05-21   2022           69   \n",
       "\n",
       "                         Team1                 Team2  \\\n",
       "1  Royal Challengers Bangalore      Rajasthan Royals   \n",
       "2  Royal Challengers Bangalore  Lucknow Super Giants   \n",
       "3             Rajasthan Royals        Gujarat Titans   \n",
       "4          Sunrisers Hyderabad          Punjab Kings   \n",
       "5               Delhi Capitals        Mumbai Indians   \n",
       "\n",
       "                              Venue            TossWinner TossDecision  \\\n",
       "1  Narendra Modi Stadium, Ahmedabad      Rajasthan Royals        field   \n",
       "2             Eden Gardens, Kolkata  Lucknow Super Giants        field   \n",
       "3             Eden Gardens, Kolkata        Gujarat Titans        field   \n",
       "4          Wankhede Stadium, Mumbai   Sunrisers Hyderabad          bat   \n",
       "5          Wankhede Stadium, Mumbai        Mumbai Indians        field   \n",
       "\n",
       "     WonBy        Umpire1        Umpire2  \n",
       "1  Wickets    CB Gaffaney    Nitin Menon  \n",
       "2     Runs  J Madanagopal       MA Gough  \n",
       "3  Wickets   BNJ Oxenford      VK Sharma  \n",
       "4  Wickets   AK Chaudhary  NA Patwardhan  \n",
       "5  Wickets    Nitin Menon   Tapan Sharma  "
      ]
     },
     "execution_count": 30,
     "metadata": {},
     "output_type": "execute_result"
    }
   ],
   "source": [
    "# To remove the rows\n",
    "d1.drop(index=[0,6],inplace=True)\n",
    "d1.head()"
   ]
  },
  {
   "cell_type": "code",
   "execution_count": null,
   "metadata": {},
   "outputs": [],
   "source": []
  }
 ],
 "metadata": {
  "kernelspec": {
   "display_name": "Python 3",
   "language": "python",
   "name": "python3"
  },
  "language_info": {
   "codemirror_mode": {
    "name": "ipython",
    "version": 3
   },
   "file_extension": ".py",
   "mimetype": "text/x-python",
   "name": "python",
   "nbconvert_exporter": "python",
   "pygments_lexer": "ipython3",
   "version": "3.11.4"
  }
 },
 "nbformat": 4,
 "nbformat_minor": 2
}
