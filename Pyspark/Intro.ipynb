{
 "cells": [
  {
   "cell_type": "code",
   "execution_count": 1,
   "metadata": {},
   "outputs": [],
   "source": [
    "from pyspark.sql import SparkSession"
   ]
  },
  {
   "cell_type": "code",
   "execution_count": null,
   "metadata": {},
   "outputs": [],
   "source": [
    "spark = SparkSession.builder \\\n",
    "    .master(\"local[*]\") \\\n",
    "    .appName(\"MyApp\") \\\n",
    "    .config(\"spark.driver.host\", \"localhost\") \\\n",
    "    .config(\"spark.driver.bindAddress\", \"localhost\") \\\n",
    "    .getOrCreate()"
   ]
  },
  {
   "cell_type": "code",
   "execution_count": 3,
   "metadata": {},
   "outputs": [
    {
     "name": "stdout",
     "output_type": "stream",
     "text": [
      "+-----------+---------+----+--------+---------+-----------+----+--------+\n",
      "|        _c0|      _c1| _c2|     _c3|      _c4|        _c5| _c6|     _c7|\n",
      "+-----------+---------+----+--------+---------+-----------+----+--------+\n",
      "|    country|continent|year|life_exp|hdi_index|co2_consump| gdp|services|\n",
      "|Afghanistan|     Asia|1998|    53.3|    0.344|     0.0522|NULL|    24.4|\n",
      "|Afghanistan|     Asia|1999|    54.7|    0.348|     0.0402|NULL|    24.6|\n",
      "|Afghanistan|     Asia|2000|    54.7|     0.35|      0.037|NULL|    24.7|\n",
      "|Afghanistan|     Asia|2001|    54.8|    0.353|     0.0376|NULL|    24.7|\n",
      "|Afghanistan|     Asia|2002|    55.5|    0.384|     0.0471| 333|    25.6|\n",
      "|Afghanistan|     Asia|2003|    56.5|    0.393|     0.0509| 346|    25.9|\n",
      "|Afghanistan|     Asia|2004|    57.1|    0.409|     0.0368| 336|    26.1|\n",
      "|Afghanistan|     Asia|2005|    57.6|    0.418|     0.0515| 360|    26.5|\n",
      "|Afghanistan|     Asia|2006|      58|    0.429|     0.0622| 368|    26.9|\n",
      "|Afghanistan|     Asia|2007|    58.5|    0.447|     0.0838| 409|    27.7|\n",
      "|Afghanistan|     Asia|2008|    59.2|    0.447|      0.152| 415|    28.2|\n",
      "|Afghanistan|     Asia|2009|    59.9|     0.46|      0.238| 492|    29.5|\n",
      "|Afghanistan|     Asia|2010|    60.5|    0.472|       0.29| 547|    30.7|\n",
      "|Afghanistan|     Asia|2011|      61|    0.477|      0.406| 533|    31.7|\n",
      "|Afghanistan|     Asia|2012|    61.4|    0.489|      0.345| 580|    32.8|\n",
      "|Afghanistan|     Asia|2013|    61.9|    0.496|       0.28| 592|    33.8|\n",
      "|Afghanistan|     Asia|2014|    61.9|      0.5|      0.253| 588|    34.8|\n",
      "|Afghanistan|     Asia|2015|    61.9|      0.5|      0.262| 578|    35.8|\n",
      "|Afghanistan|     Asia|2016|      62|    0.502|      0.245| 575|    36.9|\n",
      "+-----------+---------+----+--------+---------+-----------+----+--------+\n",
      "only showing top 20 rows\n",
      "\n"
     ]
    }
   ],
   "source": [
    "df=spark.read.csv(r\"D:\\Christ\\Python\\Datasets\\gapminder_data_graphs.csv\",inferSchema=True)\n",
    "df.show()"
   ]
  },
  {
   "cell_type": "code",
   "execution_count": 15,
   "metadata": {},
   "outputs": [
    {
     "name": "stdout",
     "output_type": "stream",
     "text": [
      "\n",
      "Column Names:\n",
      "['_c0', '_c1', '_c2', '_c3', '_c4', '_c5', '_c6', '_c7']\n"
     ]
    }
   ],
   "source": [
    "print(\"\\nColumn Names:\")\n",
    "print(df.columns)"
   ]
  },
  {
   "cell_type": "code",
   "execution_count": 8,
   "metadata": {},
   "outputs": [
    {
     "name": "stdout",
     "output_type": "stream",
     "text": [
      "DataFrame Schema:\n",
      "root\n",
      " |-- _c0: string (nullable = true)\n",
      " |-- _c1: string (nullable = true)\n",
      " |-- _c2: string (nullable = true)\n",
      " |-- _c3: string (nullable = true)\n",
      " |-- _c4: string (nullable = true)\n",
      " |-- _c5: string (nullable = true)\n",
      " |-- _c6: string (nullable = true)\n",
      " |-- _c7: string (nullable = true)\n",
      "\n"
     ]
    }
   ],
   "source": [
    "print(\"DataFrame Schema:\")\n",
    "df.printSchema()"
   ]
  },
  {
   "cell_type": "code",
   "execution_count": 4,
   "metadata": {},
   "outputs": [
    {
     "name": "stdout",
     "output_type": "stream",
     "text": [
      "+-----------+---------+\n",
      "|        _c0|      _c1|\n",
      "+-----------+---------+\n",
      "|    country|continent|\n",
      "|Afghanistan|     Asia|\n",
      "|Afghanistan|     Asia|\n",
      "|Afghanistan|     Asia|\n",
      "|Afghanistan|     Asia|\n",
      "|Afghanistan|     Asia|\n",
      "|Afghanistan|     Asia|\n",
      "|Afghanistan|     Asia|\n",
      "|Afghanistan|     Asia|\n",
      "|Afghanistan|     Asia|\n",
      "|Afghanistan|     Asia|\n",
      "|Afghanistan|     Asia|\n",
      "|Afghanistan|     Asia|\n",
      "|Afghanistan|     Asia|\n",
      "|Afghanistan|     Asia|\n",
      "|Afghanistan|     Asia|\n",
      "|Afghanistan|     Asia|\n",
      "|Afghanistan|     Asia|\n",
      "|Afghanistan|     Asia|\n",
      "|Afghanistan|     Asia|\n",
      "+-----------+---------+\n",
      "only showing top 20 rows\n",
      "\n"
     ]
    }
   ],
   "source": [
    "selected_cols = df.select(\"_c0\", \"_c1\")\n",
    "selected_cols.show()"
   ]
  },
  {
   "cell_type": "code",
   "execution_count": 5,
   "metadata": {},
   "outputs": [
    {
     "name": "stdout",
     "output_type": "stream",
     "text": [
      "+-----------+---------+----+--------+---------+-----------+----+--------+----------+\n",
      "|        _c0|      _c1| _c2|     _c3|      _c4|        _c5| _c6|     _c7|new_column|\n",
      "+-----------+---------+----+--------+---------+-----------+----+--------+----------+\n",
      "|    country|continent|year|life_exp|hdi_index|co2_consump| gdp|services|      NULL|\n",
      "|Afghanistan|     Asia|1998|    53.3|    0.344|     0.0522|NULL|    24.4|      NULL|\n",
      "|Afghanistan|     Asia|1999|    54.7|    0.348|     0.0402|NULL|    24.6|      NULL|\n",
      "|Afghanistan|     Asia|2000|    54.7|     0.35|      0.037|NULL|    24.7|      NULL|\n",
      "|Afghanistan|     Asia|2001|    54.8|    0.353|     0.0376|NULL|    24.7|      NULL|\n",
      "|Afghanistan|     Asia|2002|    55.5|    0.384|     0.0471| 333|    25.6|      NULL|\n",
      "|Afghanistan|     Asia|2003|    56.5|    0.393|     0.0509| 346|    25.9|      NULL|\n",
      "|Afghanistan|     Asia|2004|    57.1|    0.409|     0.0368| 336|    26.1|      NULL|\n",
      "|Afghanistan|     Asia|2005|    57.6|    0.418|     0.0515| 360|    26.5|      NULL|\n",
      "|Afghanistan|     Asia|2006|      58|    0.429|     0.0622| 368|    26.9|      NULL|\n",
      "|Afghanistan|     Asia|2007|    58.5|    0.447|     0.0838| 409|    27.7|      NULL|\n",
      "|Afghanistan|     Asia|2008|    59.2|    0.447|      0.152| 415|    28.2|      NULL|\n",
      "|Afghanistan|     Asia|2009|    59.9|     0.46|      0.238| 492|    29.5|      NULL|\n",
      "|Afghanistan|     Asia|2010|    60.5|    0.472|       0.29| 547|    30.7|      NULL|\n",
      "|Afghanistan|     Asia|2011|      61|    0.477|      0.406| 533|    31.7|      NULL|\n",
      "|Afghanistan|     Asia|2012|    61.4|    0.489|      0.345| 580|    32.8|      NULL|\n",
      "|Afghanistan|     Asia|2013|    61.9|    0.496|       0.28| 592|    33.8|      NULL|\n",
      "|Afghanistan|     Asia|2014|    61.9|      0.5|      0.253| 588|    34.8|      NULL|\n",
      "|Afghanistan|     Asia|2015|    61.9|      0.5|      0.262| 578|    35.8|      NULL|\n",
      "|Afghanistan|     Asia|2016|      62|    0.502|      0.245| 575|    36.9|      NULL|\n",
      "+-----------+---------+----+--------+---------+-----------+----+--------+----------+\n",
      "only showing top 20 rows\n",
      "\n"
     ]
    }
   ],
   "source": [
    "df_with_new_col = df.withColumn(\"new_column\", df._c0 + 100)\n",
    "df_with_new_col.show()"
   ]
  },
  {
   "cell_type": "code",
   "execution_count": 6,
   "metadata": {},
   "outputs": [
    {
     "name": "stdout",
     "output_type": "stream",
     "text": [
      "+-----------+---------+----+--------+---------+-----------+----+--------+\n",
      "|   column_1|      _c1| _c2|     _c3|      _c4|        _c5| _c6|     _c7|\n",
      "+-----------+---------+----+--------+---------+-----------+----+--------+\n",
      "|    country|continent|year|life_exp|hdi_index|co2_consump| gdp|services|\n",
      "|Afghanistan|     Asia|1998|    53.3|    0.344|     0.0522|NULL|    24.4|\n",
      "|Afghanistan|     Asia|1999|    54.7|    0.348|     0.0402|NULL|    24.6|\n",
      "|Afghanistan|     Asia|2000|    54.7|     0.35|      0.037|NULL|    24.7|\n",
      "|Afghanistan|     Asia|2001|    54.8|    0.353|     0.0376|NULL|    24.7|\n",
      "|Afghanistan|     Asia|2002|    55.5|    0.384|     0.0471| 333|    25.6|\n",
      "|Afghanistan|     Asia|2003|    56.5|    0.393|     0.0509| 346|    25.9|\n",
      "|Afghanistan|     Asia|2004|    57.1|    0.409|     0.0368| 336|    26.1|\n",
      "|Afghanistan|     Asia|2005|    57.6|    0.418|     0.0515| 360|    26.5|\n",
      "|Afghanistan|     Asia|2006|      58|    0.429|     0.0622| 368|    26.9|\n",
      "|Afghanistan|     Asia|2007|    58.5|    0.447|     0.0838| 409|    27.7|\n",
      "|Afghanistan|     Asia|2008|    59.2|    0.447|      0.152| 415|    28.2|\n",
      "|Afghanistan|     Asia|2009|    59.9|     0.46|      0.238| 492|    29.5|\n",
      "|Afghanistan|     Asia|2010|    60.5|    0.472|       0.29| 547|    30.7|\n",
      "|Afghanistan|     Asia|2011|      61|    0.477|      0.406| 533|    31.7|\n",
      "|Afghanistan|     Asia|2012|    61.4|    0.489|      0.345| 580|    32.8|\n",
      "|Afghanistan|     Asia|2013|    61.9|    0.496|       0.28| 592|    33.8|\n",
      "|Afghanistan|     Asia|2014|    61.9|      0.5|      0.253| 588|    34.8|\n",
      "|Afghanistan|     Asia|2015|    61.9|      0.5|      0.262| 578|    35.8|\n",
      "|Afghanistan|     Asia|2016|      62|    0.502|      0.245| 575|    36.9|\n",
      "+-----------+---------+----+--------+---------+-----------+----+--------+\n",
      "only showing top 20 rows\n",
      "\n"
     ]
    }
   ],
   "source": [
    "renamed_df = df.withColumnRenamed(\"_c0\", \"column_1\")\n",
    "renamed_df.show()"
   ]
  },
  {
   "cell_type": "code",
   "execution_count": 7,
   "metadata": {},
   "outputs": [
    {
     "name": "stdout",
     "output_type": "stream",
     "text": [
      "+---------+----+--------+---------+-----------+----+--------+\n",
      "|      _c1| _c2|     _c3|      _c4|        _c5| _c6|     _c7|\n",
      "+---------+----+--------+---------+-----------+----+--------+\n",
      "|continent|year|life_exp|hdi_index|co2_consump| gdp|services|\n",
      "|     Asia|1998|    53.3|    0.344|     0.0522|NULL|    24.4|\n",
      "|     Asia|1999|    54.7|    0.348|     0.0402|NULL|    24.6|\n",
      "|     Asia|2000|    54.7|     0.35|      0.037|NULL|    24.7|\n",
      "|     Asia|2001|    54.8|    0.353|     0.0376|NULL|    24.7|\n",
      "|     Asia|2002|    55.5|    0.384|     0.0471| 333|    25.6|\n",
      "|     Asia|2003|    56.5|    0.393|     0.0509| 346|    25.9|\n",
      "|     Asia|2004|    57.1|    0.409|     0.0368| 336|    26.1|\n",
      "|     Asia|2005|    57.6|    0.418|     0.0515| 360|    26.5|\n",
      "|     Asia|2006|      58|    0.429|     0.0622| 368|    26.9|\n",
      "|     Asia|2007|    58.5|    0.447|     0.0838| 409|    27.7|\n",
      "|     Asia|2008|    59.2|    0.447|      0.152| 415|    28.2|\n",
      "|     Asia|2009|    59.9|     0.46|      0.238| 492|    29.5|\n",
      "|     Asia|2010|    60.5|    0.472|       0.29| 547|    30.7|\n",
      "|     Asia|2011|      61|    0.477|      0.406| 533|    31.7|\n",
      "|     Asia|2012|    61.4|    0.489|      0.345| 580|    32.8|\n",
      "|     Asia|2013|    61.9|    0.496|       0.28| 592|    33.8|\n",
      "|     Asia|2014|    61.9|      0.5|      0.253| 588|    34.8|\n",
      "|     Asia|2015|    61.9|      0.5|      0.262| 578|    35.8|\n",
      "|     Asia|2016|      62|    0.502|      0.245| 575|    36.9|\n",
      "+---------+----+--------+---------+-----------+----+--------+\n",
      "only showing top 20 rows\n",
      "\n"
     ]
    }
   ],
   "source": [
    "dropped_df = df.drop(\"_c0\")\n",
    "dropped_df.show()"
   ]
  },
  {
   "cell_type": "code",
   "execution_count": 9,
   "metadata": {},
   "outputs": [
    {
     "name": "stdout",
     "output_type": "stream",
     "text": [
      "+-----------+----+----+----+-----+------+----+----+\n",
      "|        _c0| _c1| _c2| _c3|  _c4|   _c5| _c6| _c7|\n",
      "+-----------+----+----+----+-----+------+----+----+\n",
      "|Afghanistan|Asia|2018|62.7|0.509| 0.254| 569|38.4|\n",
      "|Afghanistan|Asia|1998|53.3|0.344|0.0522|NULL|24.4|\n",
      "|Afghanistan|Asia|1999|54.7|0.348|0.0402|NULL|24.6|\n",
      "|Afghanistan|Asia|2000|54.7| 0.35| 0.037|NULL|24.7|\n",
      "|Afghanistan|Asia|2001|54.8|0.353|0.0376|NULL|24.7|\n",
      "|Afghanistan|Asia|2002|55.5|0.384|0.0471| 333|25.6|\n",
      "|Afghanistan|Asia|2003|56.5|0.393|0.0509| 346|25.9|\n",
      "|Afghanistan|Asia|2004|57.1|0.409|0.0368| 336|26.1|\n",
      "|Afghanistan|Asia|2005|57.6|0.418|0.0515| 360|26.5|\n",
      "|Afghanistan|Asia|2006|  58|0.429|0.0622| 368|26.9|\n",
      "|Afghanistan|Asia|2007|58.5|0.447|0.0838| 409|27.7|\n",
      "|Afghanistan|Asia|2008|59.2|0.447| 0.152| 415|28.2|\n",
      "|Afghanistan|Asia|2009|59.9| 0.46| 0.238| 492|29.5|\n",
      "|Afghanistan|Asia|2010|60.5|0.472|  0.29| 547|30.7|\n",
      "|Afghanistan|Asia|2011|  61|0.477| 0.406| 533|31.7|\n",
      "|Afghanistan|Asia|2012|61.4|0.489| 0.345| 580|32.8|\n",
      "|Afghanistan|Asia|2013|61.9|0.496|  0.28| 592|33.8|\n",
      "|Afghanistan|Asia|2014|61.9|  0.5| 0.253| 588|34.8|\n",
      "|Afghanistan|Asia|2015|61.9|  0.5| 0.262| 578|35.8|\n",
      "|Afghanistan|Asia|2016|  62|0.502| 0.245| 575|36.9|\n",
      "+-----------+----+----+----+-----+------+----+----+\n",
      "only showing top 20 rows\n",
      "\n"
     ]
    }
   ],
   "source": [
    "sorted_df = df.orderBy(\"_c0\")\n",
    "sorted_df_desc = df.orderBy(df._c0.desc()) \n",
    "sorted_df.show()"
   ]
  },
  {
   "cell_type": "code",
   "execution_count": 10,
   "metadata": {},
   "outputs": [
    {
     "name": "stdout",
     "output_type": "stream",
     "text": [
      "+----------------+-----+\n",
      "|             _c0|count|\n",
      "+----------------+-----+\n",
      "|            Chad|   21|\n",
      "|        Paraguay|   21|\n",
      "|          Russia|   21|\n",
      "|           Yemen|   21|\n",
      "|Congo, Dem. Rep.|   21|\n",
      "|         Senegal|   21|\n",
      "|          Sweden|   21|\n",
      "|          Guyana|   21|\n",
      "|     Philippines|   21|\n",
      "|        Djibouti|   21|\n",
      "|           Tonga|   21|\n",
      "|        Malaysia|   21|\n",
      "|       Singapore|   21|\n",
      "|            Fiji|   21|\n",
      "|          Turkey|   21|\n",
      "|          Malawi|   21|\n",
      "|            Iraq|   21|\n",
      "|         Germany|   21|\n",
      "|         Comoros|   21|\n",
      "|     Afghanistan|   21|\n",
      "+----------------+-----+\n",
      "only showing top 20 rows\n",
      "\n"
     ]
    }
   ],
   "source": [
    "grouped_df = df.groupBy(\"_c0\").count()\n",
    "grouped_df.show()"
   ]
  },
  {
   "cell_type": "code",
   "execution_count": 11,
   "metadata": {},
   "outputs": [
    {
     "name": "stdout",
     "output_type": "stream",
     "text": [
      "+---+---+---+---+---+---+---+---+\n",
      "|_c0|_c1|_c2|_c3|_c4|_c5|_c6|_c7|\n",
      "+---+---+---+---+---+---+---+---+\n",
      "+---+---+---+---+---+---+---+---+\n",
      "\n"
     ]
    }
   ],
   "source": [
    "multi_filter = df.filter((df._c0 > 100) & (df._c1 < 500))\n",
    "multi_filter.show()"
   ]
  },
  {
   "cell_type": "code",
   "execution_count": 12,
   "metadata": {},
   "outputs": [
    {
     "name": "stdout",
     "output_type": "stream",
     "text": [
      "+----------------+\n",
      "|             _c0|\n",
      "+----------------+\n",
      "|            Chad|\n",
      "|        Paraguay|\n",
      "|          Russia|\n",
      "|           Yemen|\n",
      "|Congo, Dem. Rep.|\n",
      "|         Senegal|\n",
      "|          Sweden|\n",
      "|          Guyana|\n",
      "|     Philippines|\n",
      "|        Djibouti|\n",
      "|           Tonga|\n",
      "|        Malaysia|\n",
      "|       Singapore|\n",
      "|            Fiji|\n",
      "|          Turkey|\n",
      "|          Malawi|\n",
      "|            Iraq|\n",
      "|         Germany|\n",
      "|         Comoros|\n",
      "|     Afghanistan|\n",
      "+----------------+\n",
      "only showing top 20 rows\n",
      "\n"
     ]
    }
   ],
   "source": [
    "distinct_vals = df.select(\"_c0\").distinct()\n",
    "distinct_vals.show()"
   ]
  },
  {
   "cell_type": "code",
   "execution_count": 13,
   "metadata": {},
   "outputs": [
    {
     "name": "stdout",
     "output_type": "stream",
     "text": [
      "+-----------+-------------+----+----+-----+------+-----+----+\n",
      "|        _c0|          _c1| _c2| _c3|  _c4|   _c5|  _c6| _c7|\n",
      "+-----------+-------------+----+----+-----+------+-----+----+\n",
      "|Afghanistan|         Asia|2001|54.8|0.353|0.0376| NULL|24.7|\n",
      "|Afghanistan|         Asia|2003|56.5|0.393|0.0509|  346|25.9|\n",
      "|Afghanistan|         Asia|2016|  62|0.502| 0.245|  575|36.9|\n",
      "|    Albania|       Europe|2004|75.8|0.696|  1.34| 2520|36.4|\n",
      "|    Albania|       Europe|2008|77.6|0.728|  1.46| 3300|37.6|\n",
      "|    Algeria|       Africa|2006|73.3| 0.69|  2.98| 3760|55.4|\n",
      "|    Algeria|       Africa|2016|75.7|0.743|  3.64| 4220|  59|\n",
      "|    Algeria|       Africa|2017|75.9|0.745|  3.56| 4190|59.2|\n",
      "|     Angola|       Africa|2000|52.8|  0.4| 0.581| 2450|53.9|\n",
      "|     Angola|       Africa|2008|58.8|0.501|  1.18| 4080|47.6|\n",
      "|  Argentina|South America|2000|74.2|0.781|  3.85|10700|76.6|\n",
      "|  Argentina|South America|2004|74.9|0.787|  4.08|10400|75.8|\n",
      "|  Argentina|South America|2011|  76|0.835|  4.61|14200|75.4|\n",
      "|  Argentina|South America|2015|76.5| 0.84|  4.64|13800|76.1|\n",
      "|  Argentina|South America|2018|76.5|0.842|  4.41|13100|  78|\n",
      "|    Armenia|         Asia|2015|75.1|0.768|  1.65| 3610|48.8|\n",
      "|  Australia|      Oceania|2000|79.7|0.903|  18.5|45700|73.5|\n",
      "|  Australia|      Oceania|2011|82.3|0.932|    18|54200|76.3|\n",
      "|    Austria|       Europe|2002|  79|0.847|  8.87|39600|65.4|\n",
      "|    Austria|       Europe|2012|81.2|0.908|  7.95|44500|69.2|\n",
      "+-----------+-------------+----+----+-----+------+-----+----+\n",
      "only showing top 20 rows\n",
      "\n"
     ]
    }
   ],
   "source": [
    "sampled_df = df.sample(fraction=0.1)\n",
    "sampled_df.show()"
   ]
  },
  {
   "cell_type": "code",
   "execution_count": 14,
   "metadata": {},
   "outputs": [
    {
     "name": "stdout",
     "output_type": "stream",
     "text": [
      "+-------+-----------+---------+-----------------+-----------------+------------------+-----------------+------------------+------------------+\n",
      "|summary|        _c0|      _c1|              _c2|              _c3|               _c4|              _c5|               _c6|               _c7|\n",
      "+-------+-----------+---------+-----------------+-----------------+------------------+-----------------+------------------+------------------+\n",
      "|  count|       3676|     3676|             3676|             3676|              3564|             3672|              3634|              3676|\n",
      "|   mean|       NULL|     NULL|           2008.0|69.84930612244898|0.6748635980914944|4.712731272132951| 11966.05367464905| 51.24870476190484|\n",
      "| stddev|       NULL|     NULL|6.056124726802348|8.886562763476881|0.1648336098993854|6.567434962786295|17105.787952854793|18.312500738495686|\n",
      "|    min|Afghanistan|   Africa|             1998|             32.5|             0.255|           0.0159|              1000|              10.2|\n",
      "|    max|    country|continent|             year|         life_exp|         hdi_index|      co2_consump|               gdp|          services|\n",
      "+-------+-----------+---------+-----------------+-----------------+------------------+-----------------+------------------+------------------+\n",
      "\n"
     ]
    }
   ],
   "source": [
    "df.describe().show()"
   ]
  },
  {
   "cell_type": "code",
   "execution_count": 16,
   "metadata": {},
   "outputs": [
    {
     "name": "stdout",
     "output_type": "stream",
     "text": [
      "+-----------+------+----+----+-----+------+----+----+\n",
      "|        _c0|   _c1| _c2| _c3|  _c4|   _c5| _c6| _c7|\n",
      "+-----------+------+----+----+-----+------+----+----+\n",
      "|Afghanistan|  Asia|2001|54.8|0.353|0.0376|NULL|24.7|\n",
      "|Afghanistan|  Asia|2002|55.5|0.384|0.0471| 333|25.6|\n",
      "|Afghanistan|  Asia|2003|56.5|0.393|0.0509| 346|25.9|\n",
      "|Afghanistan|  Asia|2004|57.1|0.409|0.0368| 336|26.1|\n",
      "|Afghanistan|  Asia|2005|57.6|0.418|0.0515| 360|26.5|\n",
      "|Afghanistan|  Asia|2006|  58|0.429|0.0622| 368|26.9|\n",
      "|Afghanistan|  Asia|2007|58.5|0.447|0.0838| 409|27.7|\n",
      "|Afghanistan|  Asia|2008|59.2|0.447| 0.152| 415|28.2|\n",
      "|Afghanistan|  Asia|2009|59.9| 0.46| 0.238| 492|29.5|\n",
      "|Afghanistan|  Asia|2010|60.5|0.472|  0.29| 547|30.7|\n",
      "|Afghanistan|  Asia|2011|  61|0.477| 0.406| 533|31.7|\n",
      "|Afghanistan|  Asia|2012|61.4|0.489| 0.345| 580|32.8|\n",
      "|Afghanistan|  Asia|2013|61.9|0.496|  0.28| 592|33.8|\n",
      "|Afghanistan|  Asia|2014|61.9|  0.5| 0.253| 588|34.8|\n",
      "|Afghanistan|  Asia|2015|61.9|  0.5| 0.262| 578|35.8|\n",
      "|Afghanistan|  Asia|2016|  62|0.502| 0.245| 575|36.9|\n",
      "|Afghanistan|  Asia|2017|62.9|0.506| 0.247| 576|  38|\n",
      "|Afghanistan|  Asia|2018|62.7|0.509| 0.254| 569|38.4|\n",
      "|    Albania|Europe|2001|  76|0.678|  1.03|2140|  35|\n",
      "|    Albania|Europe|2002|75.9|0.684|   1.2|2250|35.4|\n",
      "+-----------+------+----+----+-----+------+----+----+\n",
      "only showing top 20 rows\n",
      "\n"
     ]
    }
   ],
   "source": [
    "filtered_df=df.filter(df._c2>2000)\n",
    "filtered_df.show()"
   ]
  },
  {
   "cell_type": "code",
   "execution_count": null,
   "metadata": {},
   "outputs": [],
   "source": []
  },
  {
   "cell_type": "code",
   "execution_count": null,
   "metadata": {},
   "outputs": [],
   "source": []
  }
 ],
 "metadata": {
  "kernelspec": {
   "display_name": "Python 3",
   "language": "python",
   "name": "python3"
  },
  "language_info": {
   "codemirror_mode": {
    "name": "ipython",
    "version": 3
   },
   "file_extension": ".py",
   "mimetype": "text/x-python",
   "name": "python",
   "nbconvert_exporter": "python",
   "pygments_lexer": "ipython3",
   "version": "3.12.6"
  }
 },
 "nbformat": 4,
 "nbformat_minor": 2
}
